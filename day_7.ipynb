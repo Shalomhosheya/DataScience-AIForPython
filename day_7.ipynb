{
 "cells": [
  {
   "cell_type": "code",
   "execution_count": 2,
   "metadata": {},
   "outputs": [
    {
     "name": "stdout",
     "output_type": "stream",
     "text": [
      "[2 3 4] <class 'numpy.ndarray'>\n",
      "[ 7  8  7 12 25] <class 'numpy.ndarray'>\n",
      "[ 5 -2  3  4 -5] <class 'numpy.ndarray'>\n",
      "[  6  15  10  32 150] <class 'numpy.ndarray'>\n",
      "[6.         0.6        2.5        2.         0.66666667] <class 'numpy.ndarray'>\n",
      "10 <class 'type'>\n",
      "3 <class 'type'>\n"
     ]
    }
   ],
   "source": [
    "import numpy as np\n",
    "\n",
    "a = np.array([2,3,4])\n",
    "\n",
    "print(a,type(a))\n",
    "\n",
    "array1 = np.array([6,3,5,8,10])\n",
    "array2 = np.array([1,5,2,4,15])\n",
    "\n",
    "# adition\n",
    "\n",
    "adition_resualt = array1 + array2\n",
    "print(adition_resualt,type(adition_resualt))\n",
    "\n",
    "# substaction\n",
    "\n",
    "sub_resualt = array1 - array2\n",
    "print(sub_resualt,type(sub_resualt))\n",
    "\n",
    "# multipication\n",
    "\n",
    "multipication_resualt = array1 * array2\n",
    "print(multipication_resualt,type(multipication_resualt))\n",
    "\n",
    "# divition\n",
    "\n",
    "divition_resualt = array1 / array2\n",
    "print(divition_resualt,type(divition_resualt))\n",
    "\n",
    "result = np.max(array1)\n",
    "result2 = np.min(array1)\n",
    "print(result,type)\n",
    "print(result2,type)\n"
   ]
  },
  {
   "cell_type": "code",
   "execution_count": 3,
   "metadata": {},
   "outputs": [
    {
     "name": "stdout",
     "output_type": "stream",
     "text": [
      "(2, 5)\n",
      "14\n",
      "(2, 2, 5)\n",
      "int64\n",
      "3\n"
     ]
    }
   ],
   "source": [
    "import numpy as np\n",
    "\n",
    "array_1 = np.array([[1,2,3,4,5],[6,7,8,9,10]])#2D array same values must be same in length\n",
    "print(array_1.shape)\n",
    "\n",
    "array_2 = np.array([[[1,2,3,4,5],[6,7,8,9,10]],[[11,12,13,14,15],[16,17,18,19,20]]])#3D array\n",
    "print(array_2[1,0,3])#selecting the array value\n",
    "\n",
    "print(array_2.shape)\n",
    "\n",
    "array= np.array([1,2,3])\n",
    "print(array.dtype)\n",
    "print(array.size)"
   ]
  },
  {
   "cell_type": "code",
   "execution_count": 4,
   "metadata": {},
   "outputs": [
    {
     "name": "stdout",
     "output_type": "stream",
     "text": [
      "3\n"
     ]
    }
   ],
   "source": [
    "array = np.array([[[1,2], [3,4]],[[5,6],[7,8]],[[9,10],[11,12]]])\n",
    "print(array.ndim)"
   ]
  },
  {
   "cell_type": "code",
   "execution_count": 5,
   "metadata": {},
   "outputs": [
    {
     "name": "stdout",
     "output_type": "stream",
     "text": [
      "[[11 12 13 14 15]\n",
      " [16 17 18 19 20]\n",
      " [21 22 23 24 25]\n",
      " [26 27 28 29 30]] \n",
      "\n",
      "[[22 24 26 28 30]\n",
      " [32 34 36 38 40]\n",
      " [42 44 46 48 50]\n",
      " [52 54 56 58 60]] \n",
      "\n",
      "[[ 484  576  676  784  900]\n",
      " [1024 1156 1296 1444 1600]\n",
      " [1764 1936 2116 2304 2500]\n",
      " [2704 2916 3136 3364 3600]]\n"
     ]
    }
   ],
   "source": [
    "import math \n",
    "\n",
    "array_1 = np.array([[1,2,3,4,5],[6,7,8,9,10],[11,12,13,14,15],[16,17,18,19,20]])\n",
    "\n",
    "array_3 = array_1 + 10\n",
    "print(array_3,\"\\n\")\n",
    "array_3 *=2\n",
    "print(array_3,\"\\n\")\n",
    "array_4= array_3 **2\n",
    "print(array_4)    "
   ]
  },
  {
   "cell_type": "code",
   "execution_count": 6,
   "metadata": {},
   "outputs": [
    {
     "name": "stdout",
     "output_type": "stream",
     "text": [
      "[13 13]\n"
     ]
    }
   ],
   "source": [
    "import numpy as np\n",
    "array_5 = np.array([10,11,12,13,13])\n",
    "con = array_5 >12\n",
    "fil = array_5[con]\n",
    "print(fil)"
   ]
  },
  {
   "cell_type": "code",
   "execution_count": 7,
   "metadata": {},
   "outputs": [
    {
     "name": "stdout",
     "output_type": "stream",
     "text": [
      "[30 40]\n"
     ]
    }
   ],
   "source": [
    "array = np.array([10,20,30,40,50])\n",
    "fil = array[(array>20)&(array<50)]\n",
    "print(fil)"
   ]
  },
  {
   "cell_type": "code",
   "execution_count": 8,
   "metadata": {},
   "outputs": [
    {
     "name": "stdout",
     "output_type": "stream",
     "text": [
      "[0. 0. 0. 0. 0.]\n",
      "\n",
      " [[0. 0. 0.]\n",
      " [0. 0. 0.]]\n"
     ]
    }
   ],
   "source": [
    "array = np.zeros(5)\n",
    "\n",
    "print(array)\n",
    "\n",
    "array_2 = np.zeros((2,3))\n",
    "\n",
    "print(\"\\n\",array_2)"
   ]
  },
  {
   "cell_type": "code",
   "execution_count": 9,
   "metadata": {},
   "outputs": [
    {
     "name": "stdout",
     "output_type": "stream",
     "text": [
      "\n",
      " [7 7 7 7]\n",
      "\n",
      " [[8 8 8]\n",
      " [8 8 8]]\n"
     ]
    }
   ],
   "source": [
    "array = np.full(4,7)\n",
    "print(\"\\n\",array)\n",
    "\n",
    "array_2 = np.full((2,3),8)\n",
    "\n",
    "print(\"\\n\",array_2)"
   ]
  },
  {
   "cell_type": "code",
   "execution_count": 10,
   "metadata": {},
   "outputs": [
    {
     "name": "stdout",
     "output_type": "stream",
     "text": [
      "[[0. 0. 0.]\n",
      " [0. 0. 0.]]\n"
     ]
    }
   ],
   "source": [
    "array = np.empty((2,3))\n",
    "print(array)"
   ]
  },
  {
   "cell_type": "code",
   "execution_count": 11,
   "metadata": {},
   "outputs": [
    {
     "name": "stdout",
     "output_type": "stream",
     "text": [
      "[ 2  4  6  8 10 12 14 16 18 20] /n\n",
      "\n",
      " [40 50]\n"
     ]
    }
   ],
   "source": [
    "# *Create one dimensional numpy array with values 1 to 20 use Boolean index into extract all even numbers\n",
    "\n",
    "# *Create a numpy array with elements 10,20,30,40,50 use Boolean index in to extract own elements greater than the mean of the array\n",
    "\n",
    "\n",
    "array = np.array([1,2,3,4,5,6,7,8,9,10,11,12,13,14,15,16,17,18,19,20])\n",
    "con = array%2 == 0\n",
    "fil = array[con]\n",
    "print(fil,\"/n\")\n",
    "\n",
    "# array_2 = np.array([10,20,30,40,50])\n",
    "# con = array_2 + array_2 / len(array)> array_2\n",
    "# print(\"\\n\",con)\n",
    "\n",
    "array_2 = np.array([10,20,30,40,50])\n",
    "mean_value = np.mean(array_2)\n",
    "fil = array_2[array_2>mean_value]\n",
    "print(\"\\n\",fil)\n"
   ]
  },
  {
   "cell_type": "code",
   "execution_count": 12,
   "metadata": {},
   "outputs": [
    {
     "name": "stdout",
     "output_type": "stream",
     "text": [
      "    Name  Age         City\n",
      "0   John   25     New York\n",
      "1   Anna   33  Los Angeles\n",
      "2  Peter   27        Paris\n",
      "3  Linda   29        Tokyo\n",
      "\n",
      " John\n",
      "\n",
      " 25\n",
      "\n",
      " Name           Anna\n",
      "Age              33\n",
      "City    Los Angeles\n",
      "Name: 1, dtype: object\n",
      "\n",
      "    Name  Age         City\n",
      "0  John   25     New York\n",
      "1  Anna   33  Los Angeles\n"
     ]
    }
   ],
   "source": [
    "import pandas as pd\n",
    "\n",
    "data = {'Name': ['John', 'Anna', 'Peter', 'Linda'],\n",
    "        'Age': [25, 33, 27, 29],\n",
    "        'City': ['New York', 'Los Angeles', 'Paris', 'Tokyo']}\n",
    "df = pd.DataFrame(data)\n",
    "print(df)\n",
    "\n",
    "print(\"\\n\",df.loc[0,\"Name\"])\n",
    "print(\"\\n\",df.loc[0,\"Age\"])\n",
    "print(\"\\n\",df.loc[1])\n",
    "print(\"\\n\",df.loc[[0,1]]) #returns multiple rows\n"
   ]
  },
  {
   "cell_type": "code",
   "execution_count": 13,
   "metadata": {},
   "outputs": [
    {
     "name": "stdout",
     "output_type": "stream",
     "text": [
      "       calories  duration\n",
      "day 1       420        50\n",
      "day 2       220        45\n",
      "day 3       500        60\n",
      "\n",
      " calories    220\n",
      "duration     45\n",
      "Name: day 2, dtype: int64\n",
      "\n",
      "        calories  duration\n",
      "day 1       420        50\n",
      "day 3       500        60\n",
      "\n",
      " day 1    420\n",
      "day 2    220\n",
      "day 3    500\n",
      "Name: calories, dtype: int64\n",
      "\n",
      " (3, 2)\n"
     ]
    }
   ],
   "source": [
    "import pandas as pd\n",
    "data={\n",
    "  \"calories\":[420,220,500],\n",
    "  \"duration\":[50,45,60]\n",
    "}\n",
    "\n",
    "df = pd.DataFrame(data,index = [\"day 1\",\"day 2\",\"day 3\"])\n",
    "print(df)\n",
    "print(\"\\n\",df.loc[\"day 2\"])\n",
    "print(\"\\n\",df.loc[[\"day 1\",\"day 3\"]])\n",
    "print(\"\\n\",df[\"calories\"])\n",
    "print(\"\\n\",df.shape)"
   ]
  },
  {
   "cell_type": "code",
   "execution_count": 14,
   "metadata": {},
   "outputs": [
    {
     "name": "stdout",
     "output_type": "stream",
     "text": [
      "Index(['A', 'B'], dtype='object')\n",
      "['A', 'B']\n",
      "4\n"
     ]
    }
   ],
   "source": [
    "df = pd.DataFrame({'A':[1,2],'B':[3,4]})\n",
    "print(df.columns)\n",
    "print(list(df.columns))\n",
    "print(df.size)"
   ]
  },
  {
   "cell_type": "code",
   "execution_count": 15,
   "metadata": {},
   "outputs": [
    {
     "name": "stdout",
     "output_type": "stream",
     "text": [
      "[[1 3]\n",
      " [2 4]]\n",
      "<class 'pandas.core.frame.DataFrame'>\n"
     ]
    }
   ],
   "source": [
    "import pandas as pd\n",
    "df = pd.DataFrame({'A':[1,2],'B':[3,4]})\n",
    "print(df.values)\n",
    "print(type(df))"
   ]
  },
  {
   "cell_type": "code",
   "execution_count": 16,
   "metadata": {},
   "outputs": [
    {
     "name": "stdout",
     "output_type": "stream",
     "text": [
      "3\n"
     ]
    }
   ],
   "source": [
    "import pandas as pd\n",
    "data={\n",
    "  \"calories\":[420,220,500],\n",
    "  \"duration\":[50,45,60]\n",
    "}\n",
    "\n",
    "df = pd.DataFrame(data)\n",
    "print(len(df))\n"
   ]
  },
  {
   "cell_type": "code",
   "execution_count": 17,
   "metadata": {},
   "outputs": [
    {
     "name": "stdout",
     "output_type": "stream",
     "text": [
      "   order ID     product    category  Quantity  price of unit region  total\n",
      "0       101      laptop  electronic         2           1000  north   2000\n",
      "1       102  smartphone  electronic         5            800  south   4000\n",
      "2       103   deskchair   furniture        10            150   east   1500\n",
      "3       104     Mointor  electronic         4            200   west    800\n",
      "4       105   bookshelf   furniture         2            300  north    600\n",
      "\n",
      " most sale product value: 4000\n"
     ]
    }
   ],
   "source": [
    "import pandas as pd\n",
    "\n",
    "data={\n",
    "    \"order ID\":[101,102,103,104,105],\n",
    "    \"product\":[\"laptop\",\"smartphone\",\"deskchair\",\"Mointor\",\"bookshelf\"],\n",
    "    \"category\":[\"electronic\",\"electronic\",\"furniture\",\"electronic\",\"furniture\"],\n",
    "    \"Quantity\":[2,5,10,4,2],\n",
    "    \"price of unit\":[1000,800,150,200,300],\n",
    "    \"region\":[\"north\",\"south\",\"east\",\"west\",\"north\"]\n",
    "}\n",
    "\n",
    "df = pd.DataFrame(data)\n",
    "df['total'] = df[\"Quantity\"]*df[\"price of unit\"]\n",
    "list[df]\n",
    "print(df)\n",
    "\n",
    "fil = max(df[\"total\"])\n",
    "# print('product name highest price')\n",
    "print(\"\\n\",\"most sale product value:\",fil) "
   ]
  },
  {
   "cell_type": "code",
   "execution_count": 18,
   "metadata": {},
   "outputs": [
    {
     "name": "stdout",
     "output_type": "stream",
     "text": [
      "Age          32.5\n",
      "Salary    65000.0\n",
      "dtype: float64\n",
      "\n",
      "              Age        Salary\n",
      "count   4.000000      4.000000\n",
      "mean   32.500000  65000.000000\n",
      "std     6.454972  12909.944487\n",
      "min    25.000000  50000.000000\n",
      "25%    28.750000  57500.000000\n",
      "50%    32.500000  65000.000000\n",
      "75%    36.250000  72500.000000\n",
      "max    40.000000  80000.000000\n",
      "\n",
      "    Age  Salary\n",
      "1   30   60000\n",
      "2   35   70000\n",
      "3   40   80000 <class 'pandas.core.frame.DataFrame'>\n"
     ]
    }
   ],
   "source": [
    "data = {\n",
    "    'Age':[25,30,35,40],\n",
    "    'Salary':[50000,60000,70000,80000]\n",
    "}\n",
    "\n",
    "df = pd.DataFrame(data)\n",
    "print(df.mean())\n",
    "print(\"\\n\",df.describe())\n",
    "filtered = df[df[\"Age\"]>25]\n",
    "\n",
    "print(\"\\n\",filtered,type(filtered))\n"
   ]
  },
  {
   "cell_type": "code",
   "execution_count": 19,
   "metadata": {},
   "outputs": [
    {
     "name": "stdout",
     "output_type": "stream",
     "text": [
      "   A  B\n",
      "0  1  3\n",
      "1  2  4\n",
      "2  5  6\n"
     ]
    }
   ],
   "source": [
    "df = pd.DataFrame({'A':[1,2],'B':[3,4]})\n",
    "df.loc[len(df)] = [5,6]\n",
    "\n",
    "print(df)\n"
   ]
  },
  {
   "cell_type": "code",
   "execution_count": 20,
   "metadata": {},
   "outputs": [
    {
     "name": "stdout",
     "output_type": "stream",
     "text": [
      "   A  B\n",
      "0  1  3\n",
      "1  2  4\n",
      "2  5  6\n",
      "   B\n",
      "0  3\n",
      "1  4\n",
      "2  6\n",
      "\n",
      "    A  B\n",
      "1  2  4\n",
      "2  5  6\n"
     ]
    }
   ],
   "source": [
    "df = pd.DataFrame({'A':[1,2],'B':[3,4]})\n",
    "df.loc[len(df)] = [5,6]\n",
    "print(df,)\n",
    "dfdrop = df.drop('A',axis=1)\n",
    "print(dfdrop)\n",
    "\n",
    "dfdrop = df.drop(0,axis=0)\n",
    "print(\"\\n\",dfdrop)\n"
   ]
  },
  {
   "cell_type": "code",
   "execution_count": 21,
   "metadata": {},
   "outputs": [
    {
     "name": "stdout",
     "output_type": "stream",
     "text": [
      "    Index      Customer Id First Name Last Name  \\\n",
      "0       1  DD37Cf93aecA6Dc     Sheryl    Baxter   \n",
      "1       2  1Ef7b82A4CAAD10    Preston    Lozano   \n",
      "2       3  6F94879bDAfE5a6        Roy     Berry   \n",
      "3       4  5Cef8BFA16c5e3c      Linda     Olsen   \n",
      "4       5  053d585Ab6b3159     Joanna    Bender   \n",
      "..    ...              ...        ...       ...   \n",
      "95     96  cb8E23e48d22Eae       Karl     Greer   \n",
      "96     97  CeD220bdAaCfaDf       Lynn  Atkinson   \n",
      "97     98  28CDbC0dFe4b1Db       Fred    Guerra   \n",
      "98     99  c23d1D9EE8DEB0A     Yvonne    Farmer   \n",
      "99    100  2354a0E336A91A1   Clarence    Haynes   \n",
      "\n",
      "                            Company               City  \\\n",
      "0                   Rasmussen Group       East Leonard   \n",
      "1                       Vega-Gentry  East Jimmychester   \n",
      "2                     Murillo-Perry      Isabelborough   \n",
      "3   Dominguez, Mcmillan and Donovan         Bensonview   \n",
      "4          Martin, Lang and Andrade     West Priscilla   \n",
      "..                              ...                ...   \n",
      "95                        Carey LLC       East Richard   \n",
      "96            Ware, Burns and Oneal       New Bradview   \n",
      "97                    Schmitt-Jones         Ortegaland   \n",
      "98               Fitzgerald-Harrell    Lake Elijahview   \n",
      "99               Le, Nash and Cross          Judymouth   \n",
      "\n",
      "                       Country                 Phone 1  \\\n",
      "0                        Chile            229.077.5154   \n",
      "1                     Djibouti              5153435776   \n",
      "2          Antigua and Barbuda         +1-539-402-0259   \n",
      "3           Dominican Republic  001-808-617-6467x12895   \n",
      "4   Slovakia (Slovak Republic)  001-234-203-0635x76146   \n",
      "..                         ...                     ...   \n",
      "95                      Guyana     (188)169-1674x58692   \n",
      "96                   Sri Lanka         +1-846-706-2218   \n",
      "97             Solomon Islands    +1-753-067-8419x7170   \n",
      "98                       Aruba           (530)311-9786   \n",
      "99                    Honduras           (753)813-6941   \n",
      "\n",
      "                   Phone 2                           Email Subscription Date  \\\n",
      "0         397.884.0519x718        zunigavanessa@smith.info        2020-08-24   \n",
      "1         686-620-1820x944                 vmata@colon.com        2021-04-23   \n",
      "2      (496)978-3969x58947             beckycarr@hogan.com        2020-03-25   \n",
      "3          +1-813-324-8756     stanleyblackwell@benson.org        2020-06-02   \n",
      "4    001-199-446-3860x3486         colinalvarado@miles.net        2021-04-17   \n",
      "..                     ...                             ...               ...   \n",
      "95    001-841-293-3519x614                hhart@jensen.com        2022-01-30   \n",
      "96            605.413.3198               vkemp@ferrell.com        2021-07-10   \n",
      "97   +1-632-666-7507x92121                swagner@kane.org        2021-09-18   \n",
      "98  001-869-452-0943x12424  mccarthystephen@horn-green.biz        2021-08-11   \n",
      "99            783.639.1472          colleen91@faulkner.biz        2020-03-11   \n",
      "\n",
      "                              Website  \n",
      "0          http://www.stephenson.com/  \n",
      "1               http://www.hobbs.com/  \n",
      "2            http://www.lawrence.com/  \n",
      "3          http://www.good-lyons.com/  \n",
      "4         https://goodwin-ingram.com/  \n",
      "..                                ...  \n",
      "95            http://hayes-perez.com/  \n",
      "96         https://novak-allison.com/  \n",
      "97              https://www.ross.com/  \n",
      "98               http://watkins.info/  \n",
      "99  http://www.hatfield-saunders.net/  \n",
      "\n",
      "[100 rows x 12 columns] \n",
      " <class 'pandas.core.frame.DataFrame'>\n"
     ]
    }
   ],
   "source": [
    "import pandas as pd\n",
    "df = pd.read_csv('data.csv')\n",
    "print(df,\"\\n\",type(df))"
   ]
  },
  {
   "cell_type": "code",
   "execution_count": 22,
   "metadata": {},
   "outputs": [
    {
     "name": "stdout",
     "output_type": "stream",
     "text": [
      "                       {\n",
      "    \"name\": \"Shalom\" NaN\n",
      "    \"age\": 21        NaN\n",
      "    \"build\": 21      NaN\n",
      "}                    NaN\n"
     ]
    }
   ],
   "source": [
    "\n",
    "import pandas as pd\n",
    "df = pd.read_csv('read.json')# read.json must be wrapped by pandas\n",
    "print(df)"
   ]
  },
  {
   "cell_type": "code",
   "execution_count": 23,
   "metadata": {},
   "outputs": [
    {
     "name": "stdout",
     "output_type": "stream",
     "text": [
      "[ 1  2  3  4  5  6  7  8  9 10 11 12 13 14 15 16 17 18 19 20 21 22 23 24\n",
      " 25 26 27 28 29 30 31 32 33 34 35 36 37 38 39 40 41 42 43 44 45 46 47 48\n",
      " 49 50]\n",
      "\n",
      " [ 5 10 15 20 25 30 35 40 45 50]\n",
      "\n",
      " [26 28 30 32 34 36 38 40 42 44 46 48 50]\n"
     ]
    }
   ],
   "source": [
    "import numpy as np\n",
    "# Create a 1D NumPy array with values from 1 to 50. Use Boolean indexing to extract:\n",
    "\n",
    "\n",
    "# All odd numbers greater than 25.\n",
    "\n",
    "array =np.array([1, 2, 3, 4, 5, 6, 7, 8, 9, 10, 11, 12, 13, 14, 15, 16, 17, 18, 19, 20, 21, 22, 23, 24, 25, 26, 27, 28, 29, 30, 31, 32, 33, 34, 35, 36, 37, 38, 39, 40, 41, 42, 43, 44, 45, 46, 47, 48, 49, 50])\n",
    "print(array)\n",
    "# All numbers divisible by 5.\n",
    "con = array[array%5==0]\n",
    "print(\"\\n\",con)\n",
    "\n",
    "con = array[(array%2==0) & (array>25)]\n",
    "print(\"\\n\",con)\n",
    "\n",
    "\n",
    "    "
   ]
  },
  {
   "cell_type": "code",
   "execution_count": 24,
   "metadata": {},
   "outputs": [
    {
     "name": "stdout",
     "output_type": "stream",
     "text": [
      "[[15 62 76 10]\n",
      " [60 29 78 18]\n",
      " [25 34 74 81]]\n",
      "\n",
      " 81\n",
      "\n",
      "\n",
      "10 18 25 "
     ]
    },
    {
     "ename": "IndexError",
     "evalue": "index 3 is out of bounds for axis 0 with size 3",
     "output_type": "error",
     "traceback": [
      "\u001b[1;31m---------------------------------------------------------------------------\u001b[0m",
      "\u001b[1;31mIndexError\u001b[0m                                Traceback (most recent call last)",
      "Cell \u001b[1;32mIn[24], line 19\u001b[0m\n\u001b[0;32m     17\u001b[0m \u001b[38;5;28mprint\u001b[39m(\u001b[38;5;124m\"\u001b[39m\u001b[38;5;130;01m\\n\u001b[39;00m\u001b[38;5;124m\"\u001b[39m)\n\u001b[0;32m     18\u001b[0m \u001b[38;5;28;01mfor\u001b[39;00m x \u001b[38;5;129;01min\u001b[39;00m \u001b[38;5;28mrange\u001b[39m(\u001b[38;5;241m0\u001b[39m,\u001b[38;5;28mlen\u001b[39m(array[\u001b[38;5;241m0\u001b[39m])):\n\u001b[1;32m---> 19\u001b[0m     value \u001b[38;5;241m=\u001b[39m np\u001b[38;5;241m.\u001b[39mmin(\u001b[43marray\u001b[49m\u001b[43m[\u001b[49m\u001b[43mx\u001b[49m\u001b[43m]\u001b[49m)\n\u001b[0;32m     20\u001b[0m     \u001b[38;5;28mprint\u001b[39m(value,end\u001b[38;5;241m=\u001b[39m\u001b[38;5;124m\"\u001b[39m\u001b[38;5;124m \u001b[39m\u001b[38;5;124m\"\u001b[39m)\n",
      "\u001b[1;31mIndexError\u001b[0m: index 3 is out of bounds for axis 0 with size 3"
     ]
    }
   ],
   "source": [
    "import random\n",
    "import numpy as np\n",
    "# Generate a 2D NumPy array of shape (3, 4) filled with random integers between 1 and 100. Find:\n",
    "\n",
    "# The maximum value in each row.\n",
    "# The minimum value in each column.\n",
    "\n",
    "array = np.array([[random.randint(1,100),random.randint(1,100),random.randint(1,100),random.randint(1,100)],[random.randint(1,100),random.randint(1,100),random.randint(1,100),random.randint(1,100)],[random.randint(1,100),random.randint(1,100),random.randint(1,100),random.randint(1,100)]])\n",
    "\n",
    "print(array)\n",
    "\n",
    "# The maximum value in each row.\n",
    "value = np.max(array)\n",
    "print(\"\\n\",value)\n",
    "\n",
    "# The minimum value in each column.\n",
    "print(\"\\n\")\n",
    "for x in range(0,len(array[0])):\n",
    "    value = np.min(array[x])\n",
    "    print(value,end=\" \")\n"
   ]
  },
  {
   "cell_type": "code",
   "execution_count": null,
   "metadata": {},
   "outputs": [
    {
     "name": "stdout",
     "output_type": "stream",
     "text": [
      "[[[1 2 3 4 5 6 7 8 9]]\n",
      "\n",
      " [[1 2 3 4 5 6 7 8 9]]\n",
      "\n",
      " [[1 2 3 4 5 6 7 8 9]]\n",
      "\n",
      " [[1 2 3 4 5 6 7 8 9]]]\n",
      "\n",
      " [[[ 5 10 15 20 25 30 35 40 45]]\n",
      "\n",
      " [[ 5 10 15 20 25 30 35 40 45]]\n",
      "\n",
      " [[ 5 10 15 20 25 30 35 40 45]]\n",
      "\n",
      " [[ 5 10 15 20 25 30 35 40 45]]]\n",
      "Original Array:\n",
      " [[1 2 3]\n",
      " [4 5 6]\n",
      " [7 8 9]]\n",
      "\n",
      "Array after multiplying by 5:\n",
      " [[ 5 10 15]\n",
      " [20 25 30]\n",
      " [35 40 45]]\n",
      "\n",
      "Transpose of the Array:\n",
      " [[1 4 7]\n",
      " [2 5 8]\n",
      " [3 6 9]]\n"
     ]
    }
   ],
   "source": [
    "import numpy as np\n",
    "# Matrix Operations:\n",
    "\n",
    "# Create a 3x3 NumPy array with values from 1 to 9.\n",
    "# Multiply every element by 5 and print the result.\n",
    "# Compute the transpose of the array.\n",
    "array = np.array([[[i for i in range(1,10)]], [[i for i in range(1,10)]], [[i for i in range(1,10)]], [[i for i in range(1,10)]]])\n",
    "print(array)\n",
    "array1 = array * 5\n",
    "print(\"\\n\",array1)\n",
    "\n",
    "# Create a 3x3 NumPy array with values from 1 to 9\n",
    "array = np.array([[1, 2, 3], [4, 5, 6], [7, 8, 9]])\n",
    "\n",
    "# Multiply every element by 5\n",
    "array1 = array * 5\n",
    "\n",
    "# Compute the transpose of the array\n",
    "array_transpose = array.T\n",
    "\n",
    "# Print results\n",
    "print(\"Original Array:\\n\", array)\n",
    "print(\"\\nArray after multiplying by 5:\\n\", array1)\n",
    "print(\"\\nTranspose of the Array:\\n\", array_transpose)\n"
   ]
  },
  {
   "cell_type": "code",
   "execution_count": null,
   "metadata": {},
   "outputs": [
    {
     "name": "stdout",
     "output_type": "stream",
     "text": [
      "      Name  Age  Score Grade\n",
      "0    Alice   24     85     B\n",
      "1      Bob   27     90     A\n",
      "2  Charlie   22     78     B\n",
      "3    David   32     88     A\n",
      "\n",
      "     Name  Age  Score Grade\n",
      "1    Bob   27     90     A\n",
      "3  David   32     88     A\n"
     ]
    }
   ],
   "source": [
    "import pandas as pd\n",
    "# pandas exercise\n",
    "\n",
    "# DataFrame Creation:\n",
    "# Create a DataFrame with the following data:\n",
    "\n",
    "# python\n",
    "# Copy code\n",
    "\n",
    "# Add a new column Grade where scores above 85 are \"A\" and below are \"B\".\n",
    "# Filter and display the rows where Grade is \"A\".\n",
    "\n",
    "data = {\n",
    "    \"Name\": [\"Alice\", \"Bob\", \"Charlie\", \"David\"],\n",
    "    \"Age\": [24, 27, 22, 32],\n",
    "    \"Score\": [85, 90, 78, 88]\n",
    "}\n",
    "df = pd.DataFrame(data)\n",
    "df[\"Grade\"] = np.where(df[\"Score\"]> 85 ,\"A\",\"B\")\n",
    "grade_dr = df[df[\"Grade\"]== \"A\"]\n",
    "\n",
    "print(df)\n",
    "print(\"\\n\",grade_dr)"
   ]
  },
  {
   "cell_type": "code",
   "execution_count": null,
   "metadata": {},
   "outputs": [
    {
     "name": "stdout",
     "output_type": "stream",
     "text": [
      "[ 1  2  3  4  5  6  7  8  9 10 11 12 13 14 15 16 17 18 19 20]\n",
      "[ 3  6  9 12 15 18]\n"
     ]
    }
   ],
   "source": [
    "import numpy as np\n",
    "# Boolean Indexing:\n",
    "\n",
    "# Create a NumPy array with values from 1 to 20.\n",
    "# Extract all numbers divisible by 3\n",
    "\n",
    "array =np.array([i for i in range(1,21)])\n",
    "print(array)\n",
    "con = array%3==0\n",
    "print(array[con])"
   ]
  },
  {
   "cell_type": "code",
   "execution_count": 1,
   "metadata": {},
   "outputs": [
    {
     "name": "stdout",
     "output_type": "stream",
     "text": [
      "[45 77 32 49 53 85 79 13 47  6]\n",
      "\n",
      " 85\n",
      "\n",
      " 6\n",
      "\n",
      " 48.6\n",
      "\n",
      " 25.393700006103877\n"
     ]
    }
   ],
   "source": [
    "import numpy as np\n",
    "import random as ran\n",
    "import math as mp\n",
    "# Statistical Functions:\n",
    "\n",
    "# Create a NumPy array with 10 random integers between 1 and 100.\n",
    "# Find the maximum, minimum, mean, and standard deviation of the array.\n",
    "array = np.random.randint(1,100,size=10)\n",
    "print(array)\n",
    "print(\"\\n\",np.max(array))\n",
    "print(\"\\n\",np.min(array))\n",
    "\n",
    "print(\"\\n\",np.mean(array))\n",
    "print(\"\\n\",np.std(array))\n"
   ]
  },
  {
   "cell_type": "code",
   "execution_count": 21,
   "metadata": {},
   "outputs": [
    {
     "name": "stdout",
     "output_type": "stream",
     "text": [
      "   Product  Price  Quantity  total\n",
      "0   Laptop   1000         5   5000\n",
      "1    Phone    800        10   8000\n",
      "2   Tablet    400         8   3200\n",
      "3  Monitor    300         2    600\n",
      "\n",
      "Product with the highest total sales: Phone with total sales of 8000\n"
     ]
    }
   ],
   "source": [
    "import pandas as pd\n",
    "import numpy as np\n",
    "# Create a DataFrame with the following data:\n",
    "\n",
    "# python\n",
    "# Copy code\n",
    "# data = {\n",
    "#     \"Product\": [\"Laptop\", \"Phone\", \"Tablet\", \"Monitor\"],\n",
    "#     \"Price\": [1000, 800, 400, 300],\n",
    "#     \"Quantity\": [5, 10, 8, 2]\n",
    "# }\n",
    "# Add a column Total (Price × Quantity).\n",
    "# Find the product with the highest total sales.\n",
    "\n",
    "data = {\n",
    "    \"Product\": [\"Laptop\", \"Phone\", \"Tablet\", \"Monitor\"],\n",
    "    \"Price\": [1000, 800, 400, 300],\n",
    "    \"Quantity\": [5, 10, 8, 2]\n",
    "}\n",
    "\n",
    "df = pd.DataFrame(data)\n",
    "df[\"total\"] = df[\"Price\"]*df[\"Quantity\"]\n",
    "print(df)\n",
    "dj=np.max(df[\"total\"])\n",
    "product_with_max_sales = df[df[\"total\"] == dj][\"Product\"].iloc[0]  # Get the product name\n",
    "\n",
    "# Print the product with the highest total sales\n",
    "print(f\"\\nProduct with the highest total sales: {product_with_max_sales} with total sales of {dj}\")"
   ]
  },
  {
   "cell_type": "code",
   "execution_count": 48,
   "metadata": {},
   "outputs": [
    {
     "name": "stdout",
     "output_type": "stream",
     "text": [
      "   Age  salaries  Experience\n",
      "0   23     20000           2\n",
      "1   24     23000           3\n",
      "2   45     40000           5\n",
      "3   56     56000           6\n",
      "4   34     80000           9\n",
      "5   45     78000          10\n",
      "\n",
      " 37.833333333333336\n",
      "\n",
      " 49500.0\n",
      "\n",
      " 5.833333333333333\n",
      "\n",
      " 39.5\n",
      "\n",
      " 48000.0\n",
      "\n",
      " 5.5\n",
      "\n",
      "    Age  salaries  Experience\n",
      "3   56     56000           6\n",
      "4   34     80000           9\n",
      "5   45     78000          10\n"
     ]
    }
   ],
   "source": [
    "import pandas as pd\n",
    "import numpy as np\n",
    "# Data Statistics:\n",
    "# Create a DataFrame with 3 columns: Ages, Salaries, and Experience for 6 employees.\n",
    "\n",
    "# Calculate the mean and median for each column.\n",
    "# Display rows where Experience is greater than 5 years.\n",
    "\n",
    "data ={\n",
    "    \"Age\":[23,24,45,56,34,45],\n",
    "    \"salaries\":[20000,23000,40000,56000,80000,78000],\n",
    "    \"Experience\":[2,3,5,6,9,10]\n",
    "}\n",
    "df = pd.DataFrame(data)\n",
    "print(df)\n",
    "age_mean=np.mean(df[\"Age\"])\n",
    "sal_mean=np.mean(df[\"salaries\"])\n",
    "ex_mean=np.mean(df[\"Experience\"])\n",
    "print(\"\\n\",age_mean)\n",
    "print(\"\\n\",sal_mean)\n",
    "print(\"\\n\",ex_mean)\n",
    "\n",
    "age_mean=np.median(df[\"Age\"])\n",
    "sal_mean=np.median(df[\"salaries\"])\n",
    "ex_mean=np.median(df[\"Experience\"])\n",
    "print(\"\\n\",age_mean)\n",
    "print(\"\\n\",sal_mean)\n",
    "print(\"\\n\",ex_mean)\n",
    "\n",
    "con = df[\"Experience\"]>5\n",
    "print(\"\\n\",df[con])"
   ]
  },
  {
   "cell_type": "code",
   "execution_count": 49,
   "metadata": {},
   "outputs": [
    {
     "name": "stdout",
     "output_type": "stream",
     "text": [
      "   Age  salaries  Experience\n",
      "0   23     20000           2\n",
      "1   24     23000           3\n",
      "2   45     40000           5\n",
      "3   56     56000           6\n",
      "4   34     80000           9\n",
      "5   45     78000          10\n",
      "\n",
      "Age Mean: 37.833333333333336\n",
      "\n",
      "Salaries Mean: 49500.0\n",
      "\n",
      "Experience Mean: 5.833333333333333\n",
      "\n",
      "Age Median: 39.5\n",
      "\n",
      "Salaries Median: 48000.0\n",
      "\n",
      "Experience Median: 5.5\n",
      "\n",
      "Rows with Experience greater than 5 years:\n",
      "   Age  salaries  Experience\n",
      "3   56     56000           6\n",
      "4   34     80000           9\n",
      "5   45     78000          10\n"
     ]
    }
   ],
   "source": [
    "import pandas as pd\n",
    "import numpy as np\n",
    "\n",
    "data = {\n",
    "    \"Age\": [23, 24, 45, 56, 34, 45],\n",
    "    \"salaries\": [20000, 23000, 40000, 56000, 80000, 78000],\n",
    "    \"Experience\": [2, 3, 5, 6, 9, 10]\n",
    "}\n",
    "\n",
    "df = pd.DataFrame(data)\n",
    "print(df)\n",
    "\n",
    "# Calculate mean for each column\n",
    "age_mean = np.mean(df[\"Age\"])\n",
    "sal_mean = np.mean(df[\"salaries\"])\n",
    "ex_mean = np.mean(df[\"Experience\"])\n",
    "\n",
    "# Print the means\n",
    "print(\"\\nAge Mean:\", age_mean)\n",
    "print(\"\\nSalaries Mean:\", sal_mean)\n",
    "print(\"\\nExperience Mean:\", ex_mean)\n",
    "\n",
    "# Calculate median for each column\n",
    "age_median = np.median(df[\"Age\"])\n",
    "sal_median = np.median(df[\"salaries\"])\n",
    "ex_median = np.median(df[\"Experience\"])\n",
    "\n",
    "# Print the medians\n",
    "print(\"\\nAge Median:\", age_median)\n",
    "print(\"\\nSalaries Median:\", sal_median)\n",
    "print(\"\\nExperience Median:\", ex_median)\n",
    "\n",
    "# Display rows where Experience is greater than 5\n",
    "con = df[\"Experience\"] > 5\n",
    "print(\"\\nRows with Experience greater than 5 years:\")\n",
    "print(df[con])\n"
   ]
  },
  {
   "cell_type": "code",
   "execution_count": 30,
   "metadata": {},
   "outputs": [
    {
     "name": "stdout",
     "output_type": "stream",
     "text": [
      "      item  price  quantity  total\n",
      "0  cookies     21         5    105\n",
      "1    bread     45         6    270\n",
      "2     rice      5        10     50\n"
     ]
    },
    {
     "data": {
      "text/plain": [
       "np.int64(50)"
      ]
     },
     "execution_count": 30,
     "metadata": {},
     "output_type": "execute_result"
    }
   ],
   "source": [
    "import pandas as pd\n",
    "import numpy as np\n",
    "data = {\n",
    "    \"item\":[\"cookies\",\"bread\",\"rice\"],\n",
    "    \"price\":[21,45,5],\n",
    "    \"quantity\":[5,6,10]\n",
    "}\n",
    "df = pd.DataFrame(data)\n",
    "df\n",
    "df[\"total\"] = df[\"price\"]*df[\"quantity\"]\n",
    "print(df)\n",
    "np.max(df[\"total\"])\n",
    "np.min(df[\"total\"])\n"
   ]
  },
  {
   "cell_type": "code",
   "execution_count": null,
   "metadata": {},
   "outputs": [],
   "source": []
  }
 ],
 "metadata": {
  "kernelspec": {
   "display_name": "Python 3",
   "language": "python",
   "name": "python3"
  },
  "language_info": {
   "codemirror_mode": {
    "name": "ipython",
    "version": 3
   },
   "file_extension": ".py",
   "mimetype": "text/x-python",
   "name": "python",
   "nbconvert_exporter": "python",
   "pygments_lexer": "ipython3",
   "version": "3.13.0"
  }
 },
 "nbformat": 4,
 "nbformat_minor": 2
}
