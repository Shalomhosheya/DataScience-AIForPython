{
 "cells": [
  {
   "cell_type": "code",
   "execution_count": 6,
   "metadata": {},
   "outputs": [
    {
     "name": "stdout",
     "output_type": "stream",
     "text": [
      "Input must be a positive number.\n",
      "Square root: None\n"
     ]
    }
   ],
   "source": [
    "import math\n",
    "\n",
    "def checkPositive(fun):\n",
    "    def inner(number):\n",
    "        if number < 0:\n",
    "            print(\"Input must be a positive number.\")\n",
    "            return None\n",
    "        else:\n",
    "            return fun(number)  # Pass the argument to the wrapped function\n",
    "    return inner\n",
    "\n",
    "@checkPositive\n",
    "def calculate_square_root(number):\n",
    "    return math.sqrt(number)\n",
    "\n",
    "# Test the function\n",
    "result = calculate_square_root(10)\n",
    "print(f\"Square root: {result}\")\n",
    "# if result is not None:\n",
    "\n"
   ]
  },
  {
   "cell_type": "code",
   "execution_count": 10,
   "metadata": {},
   "outputs": [
    {
     "name": "stdout",
     "output_type": "stream",
     "text": [
      "Square root: 3.1622776601683795\n",
      "Input must be a positive number.\n"
     ]
    }
   ],
   "source": [
    "import math\n",
    "\n",
    "def checkPositive(fun):\n",
    "    def inner(number):\n",
    "        if number < 0:\n",
    "            print(\"Input must be a positive number.\")\n",
    "            return None  # Return to prevent further execution\n",
    "        else:\n",
    "            return fun(number)  # Pass the argument to the wrapped function\n",
    "    return inner\n",
    "\n",
    "@checkPositive\n",
    "def calculate_square_root(number):  # Fixed function name typo\n",
    "    return math.sqrt(number)\n",
    "\n",
    "# Test the function\n",
    "result = calculate_square_root(10)\n",
    "if result is not None:\n",
    "    print(f\"Square root: {result}\")\n",
    "\n",
    "result = calculate_square_root(-5)\n",
    "if result is not None:\n",
    "    print(f\"Square root: {result}\")\n"
   ]
  },
  {
   "cell_type": "code",
   "execution_count": 7,
   "metadata": {},
   "outputs": [
    {
     "name": "stdout",
     "output_type": "stream",
     "text": [
      "I got Decaretad\n",
      "I am Ordinary\n"
     ]
    }
   ],
   "source": [
    "def make_pretty(fun):\n",
    "    def inner():\n",
    "        print(\"I got Decaretad\")\n",
    "        fun()\n",
    "    return inner\n",
    "\n",
    "def odinary():\n",
    "    print(\"I am Ordinary\")\n",
    "\n",
    "resualt = make_pretty(odinary)\n",
    "resualt()"
   ]
  },
  {
   "cell_type": "code",
   "execution_count": 14,
   "metadata": {},
   "outputs": [
    {
     "name": "stdout",
     "output_type": "stream",
     "text": [
      "I got Decaretad\n",
      "I am Ordinary\n"
     ]
    }
   ],
   "source": [
    "def make_pretty(fun):\n",
    "    def inner():\n",
    "        print(\"I got Decaretad\")\n",
    "        fun()\n",
    "    return inner\n",
    "\n",
    "@make_pretty\n",
    "def odinary():\n",
    "    print(\"I am Ordinary\")\n",
    "\n",
    "odinary()\n"
   ]
  },
  {
   "cell_type": "code",
   "execution_count": 50,
   "metadata": {},
   "outputs": [
    {
     "name": "stdout",
     "output_type": "stream",
     "text": [
      "<function outer.<locals>.inner at 0x000001553BA0E660>\n",
      "15\n",
      "15\n"
     ]
    }
   ],
   "source": [
    "def outer(x):\n",
    "    def inner(y):\n",
    "        return x+y \n",
    "    return inner\n",
    "\n",
    "funtion = outer(5)\n",
    "print(funtion)\n",
    "print(funtion(10))\n",
    "print(outer(5)(10))\n",
    "\n",
    "\n",
    "def add(x,y):\n",
    "    return x + y\n",
    "\n",
    "def calculate(funtion,x,y):\n",
    "    return funtion(x,y)\n",
    "\n",
    "resualt = calculate(add,10,10)\n",
    "\n",
    "print(resualt)\n"
   ]
  },
  {
   "cell_type": "code",
   "execution_count": 18,
   "metadata": {},
   "outputs": [
    {
     "name": "stdout",
     "output_type": "stream",
     "text": [
      "method2\n",
      "method3\n"
     ]
    }
   ],
   "source": [
    "def method1(fun):\n",
    "    def method2():\n",
    "        print(\"method2\")\n",
    "        fun()\n",
    "    return method2\n",
    "@method1\n",
    "def method3():\n",
    "    print(\"method3\")\n",
    "    \n",
    "method3()"
   ]
  },
  {
   "cell_type": "code",
   "execution_count": 49,
   "metadata": {},
   "outputs": [
    {
     "name": "stdout",
     "output_type": "stream",
     "text": [
      "3.1622776601683795\n"
     ]
    }
   ],
   "source": [
    "import math\n",
    "def checkPositive(fun):\n",
    "    def inner(num):\n",
    "        if num<0:\n",
    "            print(\"its a negative number\")\n",
    "            return None\n",
    "        else:\n",
    "            return fun(num)    \n",
    "    return inner\n",
    "@checkPositive\n",
    "def calculate(num):\n",
    "   return math.sqrt(num)\n",
    "\n",
    "\n",
    "x = calculate(10)\n",
    "print(x)"
   ]
  }
 ],
 "metadata": {
  "kernelspec": {
   "display_name": "Python 3",
   "language": "python",
   "name": "python3"
  },
  "language_info": {
   "codemirror_mode": {
    "name": "ipython",
    "version": 3
   },
   "file_extension": ".py",
   "mimetype": "text/x-python",
   "name": "python",
   "nbconvert_exporter": "python",
   "pygments_lexer": "ipython3",
   "version": "3.13.0"
  }
 },
 "nbformat": 4,
 "nbformat_minor": 2
}
