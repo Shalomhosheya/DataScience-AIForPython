{
 "cells": [
  {
   "cell_type": "code",
   "execution_count": 31,
   "metadata": {},
   "outputs": [
    {
     "name": "stdout",
     "output_type": "stream",
     "text": [
      " <class 'dict'>\n",
      " {'name': 'shalom', 'age': 20, 'city': 'new york'}\n"
     ]
    }
   ],
   "source": [
    "# def get_max(*args):\n",
    "#         for i in args:\n",
    "#             print(args)\n",
    "\n",
    "\n",
    "\n",
    "# get_max(1,51,5)\n",
    "\n",
    "# def printName(*args):\n",
    "#     print (\"Name: \" + args[0])\n",
    "#     max = max(args)\n",
    "#     for i in args:\n",
    "#         print (max[0])\n",
    "\n",
    "# student_name= input(\"Student Name\")\n",
    "\n",
    "# printName(student_name,40,50,60,80)\n",
    "\n",
    "\n",
    "# def summarize(name,*grades):\n",
    "#     print(\"name:\",name)\n",
    "#     print(\"max grades:\",max(grades))\n",
    "#     print(\"min grades:\",min(grades))\n",
    "#     print(\"average:\",sum(grades)/len(grades))\n",
    "\n",
    "\n",
    "# summarize(\"shalom\",10,50,50,60,80,60,70,100)\n",
    "\n",
    "def arbitary(**kwargs):\n",
    "    print(\"\",type(kwargs))\n",
    "    print(\"\",kwargs)\n",
    "\n",
    "arbitary(name=\"shalom\",age=20,city =\"new york\")"
   ]
  }
 ],
 "metadata": {
  "kernelspec": {
   "display_name": "Python 3",
   "language": "python",
   "name": "python3"
  },
  "language_info": {
   "codemirror_mode": {
    "name": "ipython",
    "version": 3
   },
   "file_extension": ".py",
   "mimetype": "text/x-python",
   "name": "python",
   "nbconvert_exporter": "python",
   "pygments_lexer": "ipython3",
   "version": "3.13.0"
  }
 },
 "nbformat": 4,
 "nbformat_minor": 2
}
