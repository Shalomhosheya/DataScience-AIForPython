{
 "cells": [
  {
   "cell_type": "code",
   "execution_count": 94,
   "metadata": {},
   "outputs": [
    {
     "name": "stdout",
     "output_type": "stream",
     "text": [
      "<map object at 0x00000275459FD090> <class 'map'>\n",
      "[1, 4, 9, 16, 25, 36, 49, 64, 81] <class 'list'>\n"
     ]
    }
   ],
   "source": [
    "# def get_max(*args):\n",
    "#         for i in args:\n",
    "#             print(args)\n",
    "\n",
    "\n",
    "\n",
    "# get_max(1,51,5)\n",
    "\n",
    "# def printName(*args):\n",
    "#     print (\"Name: \" + args[0])\n",
    "#     max = max(args)\n",
    "#     for i in args:\n",
    "#         print (max[0])\n",
    "\n",
    "# student_name= input(\"Student Name\")\n",
    "\n",
    "# printName(student_name,40,50,60,80)\n",
    "\n",
    "\n",
    "# def summarize(name,*grades):\n",
    "#     print(\"name:\",name)\n",
    "#     print(\"max grades:\",max(grades))\n",
    "#     print(\"min grades:\",min(grades))\n",
    "#     print(\"average:\",sum(grades)/len(grades))\n",
    "\n",
    "\n",
    "# summarize(\"shalom\",10,50,50,60,80,60,70,100)\n",
    "\n",
    "# def arbitary(**kwargs):\n",
    "#     print(\"\",type(kwargs))\n",
    "#     print(kwargs)\n",
    "#     for key,value in kwargs.items():\n",
    "#         print(f\"{value}\")\n",
    "#         print(\"key=\",key,\"value=\",value)\n",
    "\n",
    "# arbitary(name=\"shalom\",age=20,city =\"new york\")\n",
    "\n",
    "\n",
    "# def employee_info(**kwargs):\n",
    "#     for key,value in kwargs.items():\n",
    "#         print(key,\":\",value)\n",
    "#     return{**kwargs}\n",
    "\n",
    "\n",
    "# employee_info(name=\"shalom\",id=200312083540,salary = 35000.00)\n",
    "\n",
    "# d=abs(-20)\n",
    "\n",
    "# print(d)\n",
    "my_list=[1,2,3,4,5,6,7,8,9]\n",
    "def find_space(x):\n",
    "    return x*x\n",
    "\n",
    "result = map(find_space,my_list)\n",
    "print(result,type(result))\n",
    "\n",
    "result = list(result)\n",
    "\n",
    "print(result,type(result))\n",
    "\n"
   ]
  }
 ],
 "metadata": {
  "kernelspec": {
   "display_name": "Python 3",
   "language": "python",
   "name": "python3"
  },
  "language_info": {
   "codemirror_mode": {
    "name": "ipython",
    "version": 3
   },
   "file_extension": ".py",
   "mimetype": "text/x-python",
   "name": "python",
   "nbconvert_exporter": "python",
   "pygments_lexer": "ipython3",
   "version": "3.13.0"
  }
 },
 "nbformat": 4,
 "nbformat_minor": 2
}
