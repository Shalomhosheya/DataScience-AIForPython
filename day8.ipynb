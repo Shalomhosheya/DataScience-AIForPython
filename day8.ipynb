{
 "cells": [
  {
   "cell_type": "code",
   "execution_count": null,
   "metadata": {},
   "outputs": [],
   "source": [
    "import requests\n",
    "response = requests.get('https://api.github.com/events')\n",
    "\n",
    "print(response)\n",
    "print(\"\\n\",response.status_code,\"\\n\")\n",
    "if response.status_code == 200:\n",
    "    print(\"success\",\"\\n\")\n",
    "    print(response.headers,\"\\n\")\n",
    "    print(response.headers['content-type'])\n",
    "    print(\"\\n\",response.text)\n",
    "if 'application/json' in response.headers.get('Content-Type',''):\n",
    "    data = response.json()\n",
    "    print('\\n',data)"
   ]
  },
  {
   "cell_type": "code",
   "execution_count": null,
   "metadata": {},
   "outputs": [],
   "source": [
    "import requests\n",
    "data = {\n",
    "    'username':'shalom',\n",
    "    'password':'123'\n",
    "}\n",
    "\n",
    "username = 'shalom'\n",
    "\n",
    "password = '123'\n",
    "url = 'https://httpbin.org/get'\n",
    "response = requests.post('https://httpbin.org/post',data)\n",
    "response = requests.get(url ,auth=(username,password))\n",
    "if response.status_code == 200:\n",
    "    print('STATUS : Login Success',\"\\n\")\n",
    "    print(response.text,\"\\n\")\n",
    "else:\n",
    "    print('login Failed',response.status_code)\n",
    "    print(response.url,\"\\n\")\n",
    "    print('\\n',response.text)"
   ]
  },
  {
   "cell_type": "code",
   "execution_count": 37,
   "metadata": {},
   "outputs": [
    {
     "name": "stdout",
     "output_type": "stream",
     "text": [
      "<title>The Dormouse's story</title> \n",
      "\n",
      "<a href='http://example.com/elsie\" class=' id=\"link1\" sister\"=\"\">Elsie</a> \n",
      "\n",
      "<p class=\"title\"><b>The Dormouse's story</b></p> \n",
      "\n",
      "<p class=\"title\"><b>The Dormouse's story</b></p> \n",
      "\n",
      "[<p class=\"title\"><b>The Dormouse's story</b></p>, <p class=\"story\">Once upon a time there were three little sisters; and their names were\n",
      "<a href='http://example.com/elsie\" class=' id=\"link1\" sister\"=\"\">Elsie</a>,\n",
      "<a href='http://example.com/lacie\" class=' id=\"link2\" sister\"=\"\">Lacie</a> and\n",
      "<a href='http://example.com/tillie\" class=' id=\"link3\" sister\"=\"\">Tillie</a>;\n",
      "and they lived at the bottom of a well.</p>, <p class=\"story\">...</p>] \n",
      "\n"
     ]
    }
   ],
   "source": [
    "from bs4 import BeautifulSoup\n",
    "html_doc = \"\"\"<html><head><title>The Dormouse's story</title></head>\n",
    "<body>\n",
    "<p class=\"title\"><b>The Dormouse's story</b></p>\n",
    "<p class=\"story\">Once upon a time there were three little sisters; and their names were\n",
    "<a href=\"http://example.com/elsie&quot; class=\"sister\" id=\"link1\">Elsie</a>,\n",
    "<a href=\"http://example.com/lacie&quot; class=\"sister\" id=\"link2\">Lacie</a> and\n",
    "<a href=\"http://example.com/tillie&quot; class=\"sister\" id=\"link3\">Tillie</a>;\n",
    "and they lived at the bottom of a well.</p>\n",
    "<p class=\"story\">...</p>\"\"\"\n",
    "soup = BeautifulSoup(html_doc,\"html.parser\")\n",
    "print(soup.title,\"\\n\")\n",
    "print(soup.a,\"\\n\")\n",
    "print(soup.p,\"\\n\")\n",
    "p_tag = soup.find('p')\n",
    "print(p_tag,\"\\n\")\n",
    "p_tag = soup.find_all('p')\n",
    "print(p_tag,\"\\n\")\n"
   ]
  },
  {
   "cell_type": "code",
   "execution_count": 36,
   "metadata": {},
   "outputs": [
    {
     "name": "stdout",
     "output_type": "stream",
     "text": [
      "b'<!doctype html>\\n<html>\\n<head>\\n    <title>Example Domain</title>\\n\\n    <meta charset=\"utf-8\" />\\n    <meta http-equiv=\"Content-type\" content=\"text/html; charset=utf-8\" />\\n    <meta name=\"viewport\" content=\"width=device-width, initial-scale=1\" />\\n    <style type=\"text/css\">\\n    body {\\n        background-color: #f0f0f2;\\n        margin: 0;\\n        padding: 0;\\n        font-family: -apple-system, system-ui, BlinkMacSystemFont, \"Segoe UI\", \"Open Sans\", \"Helvetica Neue\", Helvetica, Arial, sans-serif;\\n        \\n    }\\n    div {\\n        width: 600px;\\n        margin: 5em auto;\\n        padding: 2em;\\n        background-color: #fdfdff;\\n        border-radius: 0.5em;\\n        box-shadow: 2px 3px 7px 2px rgba(0,0,0,0.02);\\n    }\\n    a:link, a:visited {\\n        color: #38488f;\\n        text-decoration: none;\\n    }\\n    @media (max-width: 700px) {\\n        div {\\n            margin: 0 auto;\\n            width: auto;\\n        }\\n    }\\n    </style>    \\n</head>\\n\\n<body>\\n<div>\\n    <h1>Example Domain</h1>\\n    <p>This domain is for use in illustrative examples in documents. You may use this\\n    domain in literature without prior coordination or asking for permission.</p>\\n    <p><a href=\"https://www.iana.org/domains/example\">More information...</a></p>\\n</div>\\n</body>\\n</html>\\n' \n",
      "\n",
      "\n",
      "\n",
      "Title =  <h1>Example Domain</h1> \n",
      "\n"
     ]
    }
   ],
   "source": [
    "# Q.fetch a webpage ,check if the request was successful , and extract the main heading text from the page's content\n",
    "\n",
    "import requests as rq\n",
    "from bs4 import BeautifulSoup\n",
    "url = \"https://example.com\"\n",
    "response = rq.get(url)\n",
    "\n",
    "if response.status_code == 200:\n",
    " print(response._content,\"\\n\\n\\n\")\n",
    " data = response._content\n",
    " soup = BeautifulSoup(data,\"html.parser\")\n",
    " h1_tag = soup.find('h1')\n",
    " if h1_tag:\n",
    "  print(\"Title = \",h1_tag,\"\\n\")\n",
    " else:\n",
    "  print(\"Failed to find h1 tag\")\n",
    "else:\n",
    " print(\"Failed to fetch the webpage\")"
   ]
  },
  {
   "cell_type": "code",
   "execution_count": 58,
   "metadata": {},
   "outputs": [
    {
     "name": "stdout",
     "output_type": "stream",
     "text": [
      "location: Srilanka,Panadura,IJSE\n",
      "Temperature =  32.0 °C\n",
      "Wind Speed =  8.8 m/s\n"
     ]
    }
   ],
   "source": [
    "#######################################API Integration#############################################################\n",
    "import requests\n",
    "\n",
    "def fetchweather(data,area):\n",
    "    data = response.json()\n",
    "    print(\"location:\",area)\n",
    "    print(\"Temperature = \",data['current']['temperature_2m'],\"°C\")\n",
    "    print(\"Wind Speed = \",data['current']['wind_speed_10m'],\"m/s\")\n",
    "    \n",
    "url =\"https://api.open-meteo.com/v1/forecast\"\n",
    "area =\"Srilanka,Panadura,IJSE\"\n",
    "data = {\n",
    "    \"latitude\": 6.711008,#ijse location in latitude\n",
    "    \"longitude\": 79.909785,#ijse location in longitude\n",
    "    'current':'temperature_2m,wind_speed_10m'\n",
    "}\n",
    "\n",
    "response = requests.get(url, params=data)\n",
    "\n",
    "if response.status_code == 200:\n",
    "    fetchweather(data, area)\n",
    "else:\n",
    "    print(\"Failed to fetch the data\")\n",
    "\n",
    "    "
   ]
  }
 ],
 "metadata": {
  "kernelspec": {
   "display_name": "Python 3",
   "language": "python",
   "name": "python3"
  },
  "language_info": {
   "codemirror_mode": {
    "name": "ipython",
    "version": 3
   },
   "file_extension": ".py",
   "mimetype": "text/x-python",
   "name": "python",
   "nbconvert_exporter": "python",
   "pygments_lexer": "ipython3",
   "version": "3.13.0"
  }
 },
 "nbformat": 4,
 "nbformat_minor": 2
}
