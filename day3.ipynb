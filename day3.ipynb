{
 "cells": [
  {
   "cell_type": "code",
   "execution_count": 22,
   "metadata": {},
   "outputs": [
    {
     "data": {
      "text/plain": [
       "[1, 25, 64]"
      ]
     },
     "execution_count": 22,
     "metadata": {},
     "output_type": "execute_result"
    }
   ],
   "source": [
    "# x = input(\"enter a num\")\n",
    "# x=int(x)\n",
    "# result = \"ok\"if (x%3==0 and x%2==0) else \"not ok\"\n",
    "# print(result)\n",
    "\n",
    "# result = \"ok\"if x%6==0 else \"vector\"\n",
    "\n",
    "\n",
    "# response_code = input(\"enter a response code\")\n",
    "# response_code = int(response_code)\n",
    "\n",
    "# match response_code:\n",
    "#     case 200:\n",
    "#         print(\"OK\")\n",
    "#     case 201:\n",
    "#         print(\"Created\")\n",
    "#     case 404:\n",
    "#         print(\"404 not found\")\n",
    "#     case 500:\n",
    "#         print(\"Internal Server Error\")\n",
    "#     case _:\n",
    "#         print(\"Something went wrong\")\n",
    "\n",
    "# x = input(\"enter a num\")\n",
    "# x=int(x)\n",
    "\n",
    "# match x:\n",
    "#     case 0:\n",
    "#         print(\"Zero\")\n",
    "#     case -1:\n",
    "#         print(\"negative num\")\n",
    "#     case 1:\n",
    "#         print(\"positive num\")\n",
    "#     case _ if x>1:\n",
    "#         print(\"postive greater than 1\")\n",
    "#     case _ if x<-1:\n",
    "#         print(\"negative less than negative one\")\n",
    "#     case _:\n",
    "#         print(\"arithmetic case\")\n",
    "\n",
    "# numbers = [4,3,2,4]\n",
    "\n",
    "# match numbers:\n",
    "#     case[x,y]:\n",
    "#         print(x*y)\n",
    "#     case[x,y,z]:\n",
    "#         print(x+y+z)\n",
    "#     case _:\n",
    "#         print(\"the list does not contain\")\n",
    "\n",
    "# x= []\n",
    "\n",
    "# match x:\n",
    "#     case []:\n",
    "#         print(\"empty list\")\n",
    "#     case [x]:\n",
    "#         print(\"list contain single element\")\n",
    "#     case [x,y]:\n",
    "#         print(\"list has multi elements\")\n",
    "#     case _:\n",
    "#         print(\"the list does not contain\")\n",
    "\n",
    "# fruits = [\"apple\", \"banana\",\"cherry\"]\n",
    "# for fruit in fruits:\n",
    "#     print(fruits)\n",
    "\n",
    "# int_list = [2,4,8]\n",
    "# newArray = []\n",
    "# for list in int_list:\n",
    "#     newArray.append(list*list)   \n",
    "    \n",
    "# print(newArray)\n",
    "\n",
    "my_list = [1,5,8]\n",
    "[x**2 for x in my_list]"
   ]
  },
  {
   "cell_type": "code",
   "execution_count": null,
   "metadata": {},
   "outputs": [],
   "source": []
  }
 ],
 "metadata": {
  "kernelspec": {
   "display_name": "Python 3",
   "language": "python",
   "name": "python3"
  },
  "language_info": {
   "codemirror_mode": {
    "name": "ipython",
    "version": 3
   },
   "file_extension": ".py",
   "mimetype": "text/x-python",
   "name": "python",
   "nbconvert_exporter": "python",
   "pygments_lexer": "ipython3",
   "version": "3.13.0"
  }
 },
 "nbformat": 4,
 "nbformat_minor": 2
}
