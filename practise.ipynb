{
 "cells": [
  {
   "cell_type": "code",
   "execution_count": null,
   "metadata": {},
   "outputs": [
    {
     "name": "stdout",
     "output_type": "stream",
     "text": [
      "True\n",
      "False\n"
     ]
    }
   ],
   "source": [
    "# s =[-10,-18,12,5,7,12,-3]\n",
    "# d=[8,4,-3,9,2,11]\n",
    "\n",
    "# s.extend(d)\n",
    "# s.sort()\n",
    "# print(s)\n",
    "# g=len(s)-1\n",
    "# g=g/2\n",
    "# g=int(g)\n",
    "# print(\"median:\",s[g])\n",
    "\n",
    "# g=len(s)-1\n",
    "# g=g/4\n",
    "# g=int(g)\n",
    "# print(\"Q1:\",s[g])\n",
    "\n",
    "\n",
    "# g=len(s)-1\n",
    "# g=g/3\n",
    "# g=int(g)\n",
    "# g=g*2\n",
    "# print(\"Q3:\",s[g])\n",
    "\n",
    "\n",
    "# whole_num=[1,2,3,4,5,6,7,8,9]\n",
    "# whole_num2=[7,10,11,12,13,14,15]\n",
    "\n",
    "# whole_num.extend(whole_num2)\n",
    "# count=len(whole_num)\n",
    "\n",
    "# def highest(arr,c):\n",
    "#     max=arr[0]\n",
    "#     for i in range(1,c):\n",
    "#         if arr[i]>max:\n",
    "#             max=arr[i]                \n",
    "#     return max\n",
    "# print(whole_num)\n",
    "\n",
    "# ans = highest(whole_num,count)\n",
    "# print(\"count:\",ans)\n",
    "\n",
    "# evenODD=[1,2,3,4,5,6,7,8,9,10]\n",
    "\n",
    "# for i in range(1,len(evenODD)):\n",
    "#     if(evenODD[i]%2):\n",
    "#         print(\"odd\",evenODD[i])\n",
    "#     else:\n",
    "#         print(\"even\",evenODD[i])\n",
    "\n"
   ]
  },
  {
   "cell_type": "code",
   "execution_count": 6,
   "metadata": {},
   "outputs": [
    {
     "name": "stdout",
     "output_type": "stream",
     "text": [
      "[ 5  7  9 11 13]\n",
      "[-3 -3 -3 -3 -3]\n",
      "[ 4 10 18 28 40]\n",
      "[0.25       0.4        0.5        0.57142857 0.625     ]\n",
      "\n",
      "\n",
      "min: 1\n",
      "max: 5\n"
     ]
    }
   ],
   "source": [
    "import numpy as np\n",
    "array = np.array([1,2,3,4,5])\n",
    "array2= np.array([4,5,6,7,8])\n",
    "resutl = array + array2\n",
    "print(resutl)\n",
    "resutl = array - array2\n",
    "print(resutl)\n",
    "resutl = array * array2\n",
    "print(resutl)\n",
    "resutl = array / array2\n",
    "print(resutl)\n",
    "print('\\n')\n",
    "\n",
    "min = np.min(array)\n",
    "max = np.max(array)\n",
    "\n",
    "print('min:',min)\n",
    "print('max:',max)\n"
   ]
  },
  {
   "cell_type": "code",
   "execution_count": 14,
   "metadata": {},
   "outputs": [
    {
     "name": "stdout",
     "output_type": "stream",
     "text": [
      "(2, 4)\n",
      "(2, 2, 4)\n",
      "3\n"
     ]
    }
   ],
   "source": [
    "import numpy as np\n",
    "array1 = np.array([[1,2,3,4],[1,24,56,78]])\n",
    "print(array1.shape)\n",
    "\n",
    "\n",
    "array2 = np.array([[[1,2,3,4],[1,24,56,78]],[[1,2,3,4],[1,24,56,78]]])\n",
    "print(array2.shape)\n",
    "print(array2.ndim)"
   ]
  },
  {
   "cell_type": "code",
   "execution_count": 24,
   "metadata": {},
   "outputs": [
    {
     "name": "stdout",
     "output_type": "stream",
     "text": [
      "[2 3 4 5]\n"
     ]
    }
   ],
   "source": [
    "import numpy as np\n",
    "\n",
    "array1 = np.array([1,2,3,4,5])\n",
    "con = 1<array1\n",
    "fil = 0\n",
    "print(array1[con])"
   ]
  },
  {
   "cell_type": "code",
   "execution_count": 30,
   "metadata": {},
   "outputs": [
    {
     "name": "stdout",
     "output_type": "stream",
     "text": [
      "[0. 0. 0. 0. 0.]\n",
      "[[1. 1. 1. 1.]\n",
      " [1. 1. 1. 1.]\n",
      " [1. 1. 1. 1.]\n",
      " [1. 1. 1. 1.]\n",
      " [1. 1. 1. 1.]]\n"
     ]
    }
   ],
   "source": [
    "array = np.zeros(5)\n",
    "print(array)\n",
    "\n",
    "array = np.ones([5,4])\n",
    "\n",
    "print(array)"
   ]
  },
  {
   "cell_type": "code",
   "execution_count": 43,
   "metadata": {},
   "outputs": [
    {
     "name": "stdout",
     "output_type": "stream",
     "text": [
      "[5 5 5 5 5]\n",
      "[[10 10 10 10 10]\n",
      " [10 10 10 10 10]\n",
      " [10 10 10 10 10]\n",
      " [10 10 10 10 10]]\n"
     ]
    }
   ],
   "source": [
    "array1 = np.full(5,5)\n",
    "\n",
    "print(array1) \n",
    "\n",
    "array2 = np.full((4,5),10) # 4 => row and 5 => column and 10 => write number\n",
    "\n",
    "print(array2)"
   ]
  }
 ],
 "metadata": {
  "kernelspec": {
   "display_name": "Python 3",
   "language": "python",
   "name": "python3"
  },
  "language_info": {
   "codemirror_mode": {
    "name": "ipython",
    "version": 3
   },
   "file_extension": ".py",
   "mimetype": "text/x-python",
   "name": "python",
   "nbconvert_exporter": "python",
   "pygments_lexer": "ipython3",
   "version": "3.13.0"
  }
 },
 "nbformat": 4,
 "nbformat_minor": 2
}
