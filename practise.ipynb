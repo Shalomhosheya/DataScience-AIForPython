{
 "cells": [
  {
   "cell_type": "code",
   "execution_count": null,
   "metadata": {},
   "outputs": [
    {
     "name": "stdout",
     "output_type": "stream",
     "text": [
      "True\n",
      "False\n"
     ]
    }
   ],
   "source": [
    "# s =[-10,-18,12,5,7,12,-3]\n",
    "# d=[8,4,-3,9,2,11]\n",
    "\n",
    "# s.extend(d)\n",
    "# s.sort()\n",
    "# print(s)\n",
    "# g=len(s)-1\n",
    "# g=g/2\n",
    "# g=int(g)\n",
    "# print(\"median:\",s[g])\n",
    "\n",
    "# g=len(s)-1\n",
    "# g=g/4\n",
    "# g=int(g)\n",
    "# print(\"Q1:\",s[g])\n",
    "\n",
    "\n",
    "# g=len(s)-1\n",
    "# g=g/3\n",
    "# g=int(g)\n",
    "# g=g*2\n",
    "# print(\"Q3:\",s[g])\n",
    "\n",
    "\n",
    "# whole_num=[1,2,3,4,5,6,7,8,9]\n",
    "# whole_num2=[7,10,11,12,13,14,15]\n",
    "\n",
    "# whole_num.extend(whole_num2)\n",
    "# count=len(whole_num)\n",
    "\n",
    "# def highest(arr,c):\n",
    "#     max=arr[0]\n",
    "#     for i in range(1,c):\n",
    "#         if arr[i]>max:\n",
    "#             max=arr[i]                \n",
    "#     return max\n",
    "# print(whole_num)\n",
    "\n",
    "# ans = highest(whole_num,count)\n",
    "# print(\"count:\",ans)\n",
    "\n",
    "# evenODD=[1,2,3,4,5,6,7,8,9,10]\n",
    "\n",
    "# for i in range(1,len(evenODD)):\n",
    "#     if(evenODD[i]%2):\n",
    "#         print(\"odd\",evenODD[i])\n",
    "#     else:\n",
    "#         print(\"even\",evenODD[i])\n",
    "\n"
   ]
  },
  {
   "cell_type": "code",
   "execution_count": null,
   "metadata": {},
   "outputs": [],
   "source": []
  },
  {
   "cell_type": "code",
   "execution_count": null,
   "metadata": {},
   "outputs": [],
   "source": []
  },
  {
   "cell_type": "code",
   "execution_count": null,
   "metadata": {},
   "outputs": [],
   "source": []
  }
 ],
 "metadata": {
  "kernelspec": {
   "display_name": "Python 3",
   "language": "python",
   "name": "python3"
  },
  "language_info": {
   "codemirror_mode": {
    "name": "ipython",
    "version": 3
   },
   "file_extension": ".py",
   "mimetype": "text/x-python",
   "name": "python",
   "nbconvert_exporter": "python",
   "pygments_lexer": "ipython3",
   "version": "3.13.0"
  }
 },
 "nbformat": 4,
 "nbformat_minor": 2
}
