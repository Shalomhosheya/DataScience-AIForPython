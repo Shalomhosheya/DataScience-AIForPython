{
 "cells": [
  {
   "cell_type": "code",
   "execution_count": null,
   "metadata": {},
   "outputs": [
    {
     "name": "stdout",
     "output_type": "stream",
     "text": [
      "[2 3 4] <class 'numpy.ndarray'>\n",
      "[ 7  8  7 12 25] <class 'numpy.ndarray'>\n",
      "[ 5 -2  3  4 -5] <class 'numpy.ndarray'>\n",
      "[  6  15  10  32 150] <class 'numpy.ndarray'>\n",
      "[6.         0.6        2.5        2.         0.66666667] <class 'numpy.ndarray'>\n",
      "10 <class 'type'>\n",
      "3 <class 'type'>\n"
     ]
    },
    {
     "ename": "ValueError",
     "evalue": "setting an array element with a sequence. The requested array has an inhomogeneous shape after 1 dimensions. The detected shape was (2,) + inhomogeneous part.",
     "output_type": "error",
     "traceback": [
      "\u001b[1;31m---------------------------------------------------------------------------\u001b[0m",
      "\u001b[1;31mValueError\u001b[0m                                Traceback (most recent call last)",
      "Cell \u001b[1;32mIn[15], line 34\u001b[0m\n\u001b[0;32m     32\u001b[0m \u001b[38;5;28mprint\u001b[39m(result,\u001b[38;5;28mtype\u001b[39m)\n\u001b[0;32m     33\u001b[0m \u001b[38;5;28mprint\u001b[39m(result2,\u001b[38;5;28mtype\u001b[39m)\n\u001b[1;32m---> 34\u001b[0m array_1 \u001b[38;5;241m=\u001b[39m \u001b[43mnp\u001b[49m\u001b[38;5;241;43m.\u001b[39;49m\u001b[43marray\u001b[49m\u001b[43m(\u001b[49m\u001b[43m[\u001b[49m\u001b[43m[\u001b[49m\u001b[38;5;241;43m1\u001b[39;49m\u001b[43m,\u001b[49m\u001b[38;5;241;43m2\u001b[39;49m\u001b[43m,\u001b[49m\u001b[38;5;241;43m3\u001b[39;49m\u001b[43m,\u001b[49m\u001b[38;5;241;43m4\u001b[39;49m\u001b[43m,\u001b[49m\u001b[38;5;241;43m5\u001b[39;49m\u001b[43m]\u001b[49m\u001b[43m,\u001b[49m\u001b[43m[\u001b[49m\u001b[38;5;241;43m6\u001b[39;49m\u001b[43m,\u001b[49m\u001b[38;5;241;43m7\u001b[39;49m\u001b[43m,\u001b[49m\u001b[38;5;241;43m8\u001b[39;49m\u001b[43m,\u001b[49m\u001b[38;5;241;43m9\u001b[39;49m\u001b[43m]\u001b[49m\u001b[43m]\u001b[49m\u001b[43m)\u001b[49m\u001b[38;5;66;03m#2D array\u001b[39;00m\n\u001b[0;32m     35\u001b[0m \u001b[38;5;28mprint\u001b[39m(array_1)\n",
      "\u001b[1;31mValueError\u001b[0m: setting an array element with a sequence. The requested array has an inhomogeneous shape after 1 dimensions. The detected shape was (2,) + inhomogeneous part."
     ]
    }
   ],
   "source": [
    "import numpy as np\n",
    "\n",
    "a = np.array([2,3,4])\n",
    "\n",
    "print(a,type(a))\n",
    "\n",
    "array1 = np.array([6,3,5,8,10])\n",
    "array2 = np.array([1,5,2,4,15])\n",
    "\n",
    "# adition\n",
    "\n",
    "adition_resualt = array1 + array2\n",
    "print(adition_resualt,type(adition_resualt))\n",
    "\n",
    "# substaction\n",
    "\n",
    "sub_resualt = array1 - array2\n",
    "print(sub_resualt,type(sub_resualt))\n",
    "\n",
    "# multipication\n",
    "\n",
    "multipication_resualt = array1 * array2\n",
    "print(multipication_resualt,type(multipication_resualt))\n",
    "\n",
    "# divition\n",
    "\n",
    "divition_resualt = array1 / array2\n",
    "print(divition_resualt,type(divition_resualt))\n",
    "\n",
    "result = np.max(array1)\n",
    "result2 = np.min(array1)\n",
    "print(result,type)\n",
    "print(result2,type)\n"
   ]
  },
  {
   "cell_type": "code",
   "execution_count": 20,
   "metadata": {},
   "outputs": [
    {
     "name": "stdout",
     "output_type": "stream",
     "text": [
      "(2, 5)\n",
      "(2, 2, 5)\n"
     ]
    }
   ],
   "source": [
    "import numpy as np\n",
    "\n",
    "array_1 = np.array([[1,2,3,4,5],[6,7,8,9,10]])#2D array\n",
    "print(array_1.shape)\n",
    "\n",
    "array_2 = np.array([[[1,2,3,4,5],[6,7,8,9,10]],[[11,12,13,14,15],[16,17,18,19,20]]])\n",
    "print(array_2.shape)"
   ]
  }
 ],
 "metadata": {
  "kernelspec": {
   "display_name": "Python 3",
   "language": "python",
   "name": "python3"
  },
  "language_info": {
   "codemirror_mode": {
    "name": "ipython",
    "version": 3
   },
   "file_extension": ".py",
   "mimetype": "text/x-python",
   "name": "python",
   "nbconvert_exporter": "python",
   "pygments_lexer": "ipython3",
   "version": "3.13.0"
  }
 },
 "nbformat": 4,
 "nbformat_minor": 2
}
