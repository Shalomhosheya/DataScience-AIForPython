{
 "cells": [
  {
   "cell_type": "code",
   "execution_count": 191,
   "metadata": {},
   "outputs": [
    {
     "name": "stdout",
     "output_type": "stream",
     "text": [
      "[2 3 4] <class 'numpy.ndarray'>\n",
      "[ 7  8  7 12 25] <class 'numpy.ndarray'>\n",
      "[ 5 -2  3  4 -5] <class 'numpy.ndarray'>\n",
      "[  6  15  10  32 150] <class 'numpy.ndarray'>\n",
      "[6.         0.6        2.5        2.         0.66666667] <class 'numpy.ndarray'>\n",
      "10 <class 'type'>\n",
      "3 <class 'type'>\n"
     ]
    }
   ],
   "source": [
    "import numpy as np\n",
    "\n",
    "a = np.array([2,3,4])\n",
    "\n",
    "print(a,type(a))\n",
    "\n",
    "array1 = np.array([6,3,5,8,10])\n",
    "array2 = np.array([1,5,2,4,15])\n",
    "\n",
    "# adition\n",
    "\n",
    "adition_resualt = array1 + array2\n",
    "print(adition_resualt,type(adition_resualt))\n",
    "\n",
    "# substaction\n",
    "\n",
    "sub_resualt = array1 - array2\n",
    "print(sub_resualt,type(sub_resualt))\n",
    "\n",
    "# multipication\n",
    "\n",
    "multipication_resualt = array1 * array2\n",
    "print(multipication_resualt,type(multipication_resualt))\n",
    "\n",
    "# divition\n",
    "\n",
    "divition_resualt = array1 / array2\n",
    "print(divition_resualt,type(divition_resualt))\n",
    "\n",
    "result = np.max(array1)\n",
    "result2 = np.min(array1)\n",
    "print(result,type)\n",
    "print(result2,type)\n"
   ]
  },
  {
   "cell_type": "code",
   "execution_count": 192,
   "metadata": {},
   "outputs": [
    {
     "name": "stdout",
     "output_type": "stream",
     "text": [
      "(2, 5)\n",
      "14\n",
      "(2, 2, 5)\n",
      "int64\n",
      "3\n"
     ]
    }
   ],
   "source": [
    "import numpy as np\n",
    "\n",
    "array_1 = np.array([[1,2,3,4,5],[6,7,8,9,10]])#2D array same values must be same in length\n",
    "print(array_1.shape)\n",
    "\n",
    "array_2 = np.array([[[1,2,3,4,5],[6,7,8,9,10]],[[11,12,13,14,15],[16,17,18,19,20]]])#3D array\n",
    "print(array_2[1,0,3])#selecting the array value\n",
    "\n",
    "print(array_2.shape)\n",
    "\n",
    "array= np.array([1,2,3])\n",
    "print(array.dtype)\n",
    "print(array.size)"
   ]
  },
  {
   "cell_type": "code",
   "execution_count": 193,
   "metadata": {},
   "outputs": [
    {
     "name": "stdout",
     "output_type": "stream",
     "text": [
      "3\n"
     ]
    }
   ],
   "source": [
    "array = np.array([[[1,2], [3,4]],[[5,6],[7,8]],[[9,10],[11,12]]])\n",
    "print(array.ndim)"
   ]
  },
  {
   "cell_type": "code",
   "execution_count": 194,
   "metadata": {},
   "outputs": [
    {
     "name": "stdout",
     "output_type": "stream",
     "text": [
      "[[11 12 13 14 15]\n",
      " [16 17 18 19 20]\n",
      " [21 22 23 24 25]\n",
      " [26 27 28 29 30]] \n",
      "\n",
      "[[22 24 26 28 30]\n",
      " [32 34 36 38 40]\n",
      " [42 44 46 48 50]\n",
      " [52 54 56 58 60]] \n",
      "\n",
      "[[ 484  576  676  784  900]\n",
      " [1024 1156 1296 1444 1600]\n",
      " [1764 1936 2116 2304 2500]\n",
      " [2704 2916 3136 3364 3600]]\n"
     ]
    }
   ],
   "source": [
    "import math \n",
    "\n",
    "array_1 = np.array([[1,2,3,4,5],[6,7,8,9,10],[11,12,13,14,15],[16,17,18,19,20]])\n",
    "\n",
    "array_3 = array_1 + 10\n",
    "print(array_3,\"\\n\")\n",
    "array_3 *=2\n",
    "print(array_3,\"\\n\")\n",
    "array_4= array_3 **2\n",
    "print(array_4)    "
   ]
  },
  {
   "cell_type": "code",
   "execution_count": 195,
   "metadata": {},
   "outputs": [
    {
     "name": "stdout",
     "output_type": "stream",
     "text": [
      "[13 13]\n"
     ]
    }
   ],
   "source": [
    "import numpy as np\n",
    "array_5 = np.array([10,11,12,13,13])\n",
    "con = array_5 >12\n",
    "fil = array_5[con]\n",
    "print(fil)"
   ]
  },
  {
   "cell_type": "code",
   "execution_count": 196,
   "metadata": {},
   "outputs": [
    {
     "name": "stdout",
     "output_type": "stream",
     "text": [
      "[30 40]\n"
     ]
    }
   ],
   "source": [
    "array = np.array([10,20,30,40,50])\n",
    "fil = array[(array>20)&(array<50)]\n",
    "print(fil)"
   ]
  },
  {
   "cell_type": "code",
   "execution_count": 197,
   "metadata": {},
   "outputs": [
    {
     "name": "stdout",
     "output_type": "stream",
     "text": [
      "[0. 0. 0. 0. 0.]\n",
      "\n",
      " [[0. 0. 0.]\n",
      " [0. 0. 0.]]\n"
     ]
    }
   ],
   "source": [
    "array = np.zeros(5)\n",
    "\n",
    "print(array)\n",
    "\n",
    "array_2 = np.zeros((2,3))\n",
    "\n",
    "print(\"\\n\",array_2)"
   ]
  },
  {
   "cell_type": "code",
   "execution_count": 198,
   "metadata": {},
   "outputs": [
    {
     "name": "stdout",
     "output_type": "stream",
     "text": [
      "\n",
      " [7 7 7 7]\n",
      "\n",
      " [[8 8 8]\n",
      " [8 8 8]]\n"
     ]
    }
   ],
   "source": [
    "array = np.full(4,7)\n",
    "print(\"\\n\",array)\n",
    "\n",
    "array_2 = np.full((2,3),8)\n",
    "\n",
    "print(\"\\n\",array_2)"
   ]
  },
  {
   "cell_type": "code",
   "execution_count": 199,
   "metadata": {},
   "outputs": [
    {
     "name": "stdout",
     "output_type": "stream",
     "text": [
      "[[0. 0. 0.]\n",
      " [0. 0. 0.]]\n"
     ]
    }
   ],
   "source": [
    "array = np.empty((2,3))\n",
    "print(array)"
   ]
  },
  {
   "cell_type": "code",
   "execution_count": 200,
   "metadata": {},
   "outputs": [
    {
     "name": "stdout",
     "output_type": "stream",
     "text": [
      "[ 2  4  6  8 10 12 14 16 18 20] /n\n",
      "\n",
      " [40 50]\n"
     ]
    }
   ],
   "source": [
    "# *Create one dimensional numpy array with values 1 to 20 use Boolean index into extract all even numbers\n",
    "\n",
    "# *Create a numpy array with elements 10,20,30,40,50 use Boolean index in to extract own elements greater than the mean of the array\n",
    "\n",
    "\n",
    "array = np.array([1,2,3,4,5,6,7,8,9,10,11,12,13,14,15,16,17,18,19,20])\n",
    "con = array%2 == 0\n",
    "fil = array[con]\n",
    "print(fil,\"/n\")\n",
    "\n",
    "# array_2 = np.array([10,20,30,40,50])\n",
    "# con = array_2 + array_2 / len(array)> array_2\n",
    "# print(\"\\n\",con)\n",
    "\n",
    "array_2 = np.array([10,20,30,40,50])\n",
    "mean_value = np.mean(array_2)\n",
    "fil = array_2[array_2>mean_value]\n",
    "print(\"\\n\",fil)\n"
   ]
  },
  {
   "cell_type": "code",
   "execution_count": 201,
   "metadata": {},
   "outputs": [
    {
     "name": "stdout",
     "output_type": "stream",
     "text": [
      "    Name  Age         City\n",
      "0   John   25     New York\n",
      "1   Anna   33  Los Angeles\n",
      "2  Peter   27        Paris\n",
      "3  Linda   29        Tokyo\n",
      "\n",
      " John\n",
      "\n",
      " 25\n",
      "\n",
      " Name           Anna\n",
      "Age              33\n",
      "City    Los Angeles\n",
      "Name: 1, dtype: object\n",
      "\n",
      "    Name  Age         City\n",
      "0  John   25     New York\n",
      "1  Anna   33  Los Angeles\n"
     ]
    }
   ],
   "source": [
    "import pandas as pd\n",
    "\n",
    "data = {'Name': ['John', 'Anna', 'Peter', 'Linda'],\n",
    "        'Age': [25, 33, 27, 29],\n",
    "        'City': ['New York', 'Los Angeles', 'Paris', 'Tokyo']}\n",
    "df = pd.DataFrame(data)\n",
    "print(df)\n",
    "\n",
    "print(\"\\n\",df.loc[0,\"Name\"])\n",
    "print(\"\\n\",df.loc[0,\"Age\"])\n",
    "print(\"\\n\",df.loc[1])\n",
    "print(\"\\n\",df.loc[[0,1]]) #returns multiple rows\n"
   ]
  },
  {
   "cell_type": "code",
   "execution_count": 246,
   "metadata": {},
   "outputs": [
    {
     "name": "stdout",
     "output_type": "stream",
     "text": [
      "       calories  duration\n",
      "day 1       420        50\n",
      "day 2       220        45\n",
      "day 3       500        60\n",
      "\n",
      " calories    220\n",
      "duration     45\n",
      "Name: day 2, dtype: int64\n",
      "\n",
      "        calories  duration\n",
      "day 1       420        50\n",
      "day 3       500        60\n",
      "\n",
      " day 1    420\n",
      "day 2    220\n",
      "day 3    500\n",
      "Name: calories, dtype: int64\n",
      "\n",
      " (3, 2)\n"
     ]
    }
   ],
   "source": [
    "import pandas as pd\n",
    "data={\n",
    "  \"calories\":[420,220,500],\n",
    "  \"duration\":[50,45,60]\n",
    "}\n",
    "\n",
    "df = pd.DataFrame(data,index = [\"day 1\",\"day 2\",\"day 3\"])\n",
    "print(df)\n",
    "print(\"\\n\",df.loc[\"day 2\"])\n",
    "print(\"\\n\",df.loc[[\"day 1\",\"day 3\"]])\n",
    "print(\"\\n\",df[\"calories\"])\n",
    "print(\"\\n\",df.shape)"
   ]
  },
  {
   "cell_type": "code",
   "execution_count": 203,
   "metadata": {},
   "outputs": [
    {
     "name": "stdout",
     "output_type": "stream",
     "text": [
      "Index(['A', 'B'], dtype='object')\n",
      "['A', 'B']\n",
      "4\n"
     ]
    }
   ],
   "source": [
    "df = pd.DataFrame({'A':[1,2],'B':[3,4]})\n",
    "print(df.columns)\n",
    "print(list(df.columns))\n",
    "print(df.size)"
   ]
  },
  {
   "cell_type": "code",
   "execution_count": 204,
   "metadata": {},
   "outputs": [
    {
     "name": "stdout",
     "output_type": "stream",
     "text": [
      "[[1 3]\n",
      " [2 4]]\n",
      "<class 'pandas.core.frame.DataFrame'>\n"
     ]
    }
   ],
   "source": [
    "import pandas as pd\n",
    "df = pd.DataFrame({'A':[1,2],'B':[3,4]})\n",
    "print(df.values)\n",
    "print(type(df))"
   ]
  },
  {
   "cell_type": "code",
   "execution_count": 205,
   "metadata": {},
   "outputs": [
    {
     "name": "stdout",
     "output_type": "stream",
     "text": [
      "3\n"
     ]
    }
   ],
   "source": [
    "import pandas as pd\n",
    "data={\n",
    "  \"calories\":[420,220,500],\n",
    "  \"duration\":[50,45,60]\n",
    "}\n",
    "\n",
    "df = pd.DataFrame(data)\n",
    "print(len(df))\n"
   ]
  },
  {
   "cell_type": "code",
   "execution_count": 251,
   "metadata": {},
   "outputs": [
    {
     "name": "stdout",
     "output_type": "stream",
     "text": [
      "   order ID     product    category  Quantity  price of unit region  total\n",
      "0       101      laptop  electronic         2           1000  north   2000\n",
      "1       102  smartphone  electronic         5            800  south   4000\n",
      "2       103   deskchair   furniture        10            150   east   1500\n",
      "3       104     Mointor  electronic         4            200   west    800\n",
      "4       105   bookshelf   furniture         2            300  north    600\n",
      "\n",
      " most sale product value: 4000\n"
     ]
    }
   ],
   "source": [
    "import pandas as pd\n",
    "\n",
    "data={\n",
    "    \"order ID\":[101,102,103,104,105],\n",
    "    \"product\":[\"laptop\",\"smartphone\",\"deskchair\",\"Mointor\",\"bookshelf\"],\n",
    "    \"category\":[\"electronic\",\"electronic\",\"furniture\",\"electronic\",\"furniture\"],\n",
    "    \"Quantity\":[2,5,10,4,2],\n",
    "    \"price of unit\":[1000,800,150,200,300],\n",
    "    \"region\":[\"north\",\"south\",\"east\",\"west\",\"north\"]\n",
    "}\n",
    "\n",
    "df = pd.DataFrame(data)\n",
    "df['total'] = df[\"Quantity\"]*df[\"price of unit\"]\n",
    "list[df]\n",
    "print(df)\n",
    "\n",
    "fil = max(df[\"total\"])\n",
    "# print('product name highest price')\n",
    "print(\"\\n\",\"most sale product value:\",fil) "
   ]
  },
  {
   "cell_type": "code",
   "execution_count": 256,
   "metadata": {},
   "outputs": [
    {
     "name": "stdout",
     "output_type": "stream",
     "text": [
      "Age          32.5\n",
      "Salary    65000.0\n",
      "dtype: float64\n",
      "\n",
      "              Age        Salary\n",
      "count   4.000000      4.000000\n",
      "mean   32.500000  65000.000000\n",
      "std     6.454972  12909.944487\n",
      "min    25.000000  50000.000000\n",
      "25%    28.750000  57500.000000\n",
      "50%    32.500000  65000.000000\n",
      "75%    36.250000  72500.000000\n",
      "max    40.000000  80000.000000\n",
      "\n",
      "    Age  Salary\n",
      "1   30   60000\n",
      "2   35   70000\n",
      "3   40   80000 <class 'pandas.core.frame.DataFrame'>\n"
     ]
    }
   ],
   "source": [
    "data = {\n",
    "    'Age':[25,30,35,40],\n",
    "    'Salary':[50000,60000,70000,80000]\n",
    "}\n",
    "\n",
    "df = pd.DataFrame(data)\n",
    "print(df.mean())\n",
    "print(\"\\n\",df.describe())\n",
    "filtered = df[df[\"Age\"]>25]\n",
    "\n",
    "print(\"\\n\",filtered,type(filtered))\n"
   ]
  },
  {
   "cell_type": "code",
   "execution_count": null,
   "metadata": {},
   "outputs": [
    {
     "name": "stdout",
     "output_type": "stream",
     "text": [
      "   A  B\n",
      "0  1  3\n",
      "1  2  4\n",
      "2  5  6\n"
     ]
    }
   ],
   "source": [
    "df = pd.DataFrame({'A':[1,2],'B':[3,4]})\n",
    "df.loc[len(df)] = [5,6]\n",
    "\n",
    "print(df)\n"
   ]
  },
  {
   "cell_type": "code",
   "execution_count": 267,
   "metadata": {},
   "outputs": [
    {
     "name": "stdout",
     "output_type": "stream",
     "text": [
      "   A  B\n",
      "0  1  3\n",
      "1  2  4\n",
      "2  5  6\n",
      "   B\n",
      "0  3\n",
      "1  4\n",
      "2  6\n",
      "\n",
      "    A  B\n",
      "1  2  4\n",
      "2  5  6\n"
     ]
    }
   ],
   "source": [
    "df = pd.DataFrame({'A':[1,2],'B':[3,4]})\n",
    "df.loc[len(df)] = [5,6]\n",
    "print(df,)\n",
    "dfdrop = df.drop('A',axis=1)\n",
    "print(dfdrop)\n",
    "\n",
    "dfdrop = df.drop(0,axis=0)\n",
    "print(\"\\n\",dfdrop)\n"
   ]
  },
  {
   "cell_type": "code",
   "execution_count": 274,
   "metadata": {},
   "outputs": [
    {
     "name": "stdout",
     "output_type": "stream",
     "text": [
      "    Index      Customer Id First Name Last Name  \\\n",
      "0       1  DD37Cf93aecA6Dc     Sheryl    Baxter   \n",
      "1       2  1Ef7b82A4CAAD10    Preston    Lozano   \n",
      "2       3  6F94879bDAfE5a6        Roy     Berry   \n",
      "3       4  5Cef8BFA16c5e3c      Linda     Olsen   \n",
      "4       5  053d585Ab6b3159     Joanna    Bender   \n",
      "..    ...              ...        ...       ...   \n",
      "95     96  cb8E23e48d22Eae       Karl     Greer   \n",
      "96     97  CeD220bdAaCfaDf       Lynn  Atkinson   \n",
      "97     98  28CDbC0dFe4b1Db       Fred    Guerra   \n",
      "98     99  c23d1D9EE8DEB0A     Yvonne    Farmer   \n",
      "99    100  2354a0E336A91A1   Clarence    Haynes   \n",
      "\n",
      "                            Company               City  \\\n",
      "0                   Rasmussen Group       East Leonard   \n",
      "1                       Vega-Gentry  East Jimmychester   \n",
      "2                     Murillo-Perry      Isabelborough   \n",
      "3   Dominguez, Mcmillan and Donovan         Bensonview   \n",
      "4          Martin, Lang and Andrade     West Priscilla   \n",
      "..                              ...                ...   \n",
      "95                        Carey LLC       East Richard   \n",
      "96            Ware, Burns and Oneal       New Bradview   \n",
      "97                    Schmitt-Jones         Ortegaland   \n",
      "98               Fitzgerald-Harrell    Lake Elijahview   \n",
      "99               Le, Nash and Cross          Judymouth   \n",
      "\n",
      "                       Country                 Phone 1  \\\n",
      "0                        Chile            229.077.5154   \n",
      "1                     Djibouti              5153435776   \n",
      "2          Antigua and Barbuda         +1-539-402-0259   \n",
      "3           Dominican Republic  001-808-617-6467x12895   \n",
      "4   Slovakia (Slovak Republic)  001-234-203-0635x76146   \n",
      "..                         ...                     ...   \n",
      "95                      Guyana     (188)169-1674x58692   \n",
      "96                   Sri Lanka         +1-846-706-2218   \n",
      "97             Solomon Islands    +1-753-067-8419x7170   \n",
      "98                       Aruba           (530)311-9786   \n",
      "99                    Honduras           (753)813-6941   \n",
      "\n",
      "                   Phone 2                           Email Subscription Date  \\\n",
      "0         397.884.0519x718        zunigavanessa@smith.info        2020-08-24   \n",
      "1         686-620-1820x944                 vmata@colon.com        2021-04-23   \n",
      "2      (496)978-3969x58947             beckycarr@hogan.com        2020-03-25   \n",
      "3          +1-813-324-8756     stanleyblackwell@benson.org        2020-06-02   \n",
      "4    001-199-446-3860x3486         colinalvarado@miles.net        2021-04-17   \n",
      "..                     ...                             ...               ...   \n",
      "95    001-841-293-3519x614                hhart@jensen.com        2022-01-30   \n",
      "96            605.413.3198               vkemp@ferrell.com        2021-07-10   \n",
      "97   +1-632-666-7507x92121                swagner@kane.org        2021-09-18   \n",
      "98  001-869-452-0943x12424  mccarthystephen@horn-green.biz        2021-08-11   \n",
      "99            783.639.1472          colleen91@faulkner.biz        2020-03-11   \n",
      "\n",
      "                              Website  \n",
      "0          http://www.stephenson.com/  \n",
      "1               http://www.hobbs.com/  \n",
      "2            http://www.lawrence.com/  \n",
      "3          http://www.good-lyons.com/  \n",
      "4         https://goodwin-ingram.com/  \n",
      "..                                ...  \n",
      "95            http://hayes-perez.com/  \n",
      "96         https://novak-allison.com/  \n",
      "97              https://www.ross.com/  \n",
      "98               http://watkins.info/  \n",
      "99  http://www.hatfield-saunders.net/  \n",
      "\n",
      "[100 rows x 12 columns] \n",
      " <class 'pandas.core.frame.DataFrame'>\n"
     ]
    }
   ],
   "source": [
    "import pandas as pd\n",
    "df = pd.read_csv('data.csv')\n",
    "print(df,\"\\n\",type(df))"
   ]
  },
  {
   "cell_type": "code",
   "execution_count": null,
   "metadata": {},
   "outputs": [
    {
     "ename": "ValueError",
     "evalue": "If using all scalar values, you must pass an index",
     "output_type": "error",
     "traceback": [
      "\u001b[1;31m---------------------------------------------------------------------------\u001b[0m",
      "\u001b[1;31mValueError\u001b[0m                                Traceback (most recent call last)",
      "Cell \u001b[1;32mIn[278], line 2\u001b[0m\n\u001b[0;32m      1\u001b[0m \u001b[38;5;28;01mimport\u001b[39;00m \u001b[38;5;21;01mpandas\u001b[39;00m \u001b[38;5;28;01mas\u001b[39;00m \u001b[38;5;21;01mpd\u001b[39;00m\n\u001b[1;32m----> 2\u001b[0m df \u001b[38;5;241m=\u001b[39m \u001b[43mpd\u001b[49m\u001b[38;5;241;43m.\u001b[39;49m\u001b[43mread_json\u001b[49m\u001b[43m(\u001b[49m\u001b[38;5;124;43m'\u001b[39;49m\u001b[38;5;124;43mread.json\u001b[39;49m\u001b[38;5;124;43m'\u001b[39;49m\u001b[43m)\u001b[49m\n\u001b[0;32m      3\u001b[0m \u001b[38;5;28mprint\u001b[39m(df)\n",
      "File \u001b[1;32m~\\AppData\\Roaming\\Python\\Python313\\site-packages\\pandas\\io\\json\\_json.py:815\u001b[0m, in \u001b[0;36mread_json\u001b[1;34m(path_or_buf, orient, typ, dtype, convert_axes, convert_dates, keep_default_dates, precise_float, date_unit, encoding, encoding_errors, lines, chunksize, compression, nrows, storage_options, dtype_backend, engine)\u001b[0m\n\u001b[0;32m    813\u001b[0m     \u001b[38;5;28;01mreturn\u001b[39;00m json_reader\n\u001b[0;32m    814\u001b[0m \u001b[38;5;28;01melse\u001b[39;00m:\n\u001b[1;32m--> 815\u001b[0m     \u001b[38;5;28;01mreturn\u001b[39;00m \u001b[43mjson_reader\u001b[49m\u001b[38;5;241;43m.\u001b[39;49m\u001b[43mread\u001b[49m\u001b[43m(\u001b[49m\u001b[43m)\u001b[49m\n",
      "File \u001b[1;32m~\\AppData\\Roaming\\Python\\Python313\\site-packages\\pandas\\io\\json\\_json.py:1025\u001b[0m, in \u001b[0;36mJsonReader.read\u001b[1;34m(self)\u001b[0m\n\u001b[0;32m   1023\u001b[0m         obj \u001b[38;5;241m=\u001b[39m \u001b[38;5;28mself\u001b[39m\u001b[38;5;241m.\u001b[39m_get_object_parser(\u001b[38;5;28mself\u001b[39m\u001b[38;5;241m.\u001b[39m_combine_lines(data_lines))\n\u001b[0;32m   1024\u001b[0m \u001b[38;5;28;01melse\u001b[39;00m:\n\u001b[1;32m-> 1025\u001b[0m     obj \u001b[38;5;241m=\u001b[39m \u001b[38;5;28;43mself\u001b[39;49m\u001b[38;5;241;43m.\u001b[39;49m\u001b[43m_get_object_parser\u001b[49m\u001b[43m(\u001b[49m\u001b[38;5;28;43mself\u001b[39;49m\u001b[38;5;241;43m.\u001b[39;49m\u001b[43mdata\u001b[49m\u001b[43m)\u001b[49m\n\u001b[0;32m   1026\u001b[0m \u001b[38;5;28;01mif\u001b[39;00m \u001b[38;5;28mself\u001b[39m\u001b[38;5;241m.\u001b[39mdtype_backend \u001b[38;5;129;01mis\u001b[39;00m \u001b[38;5;129;01mnot\u001b[39;00m lib\u001b[38;5;241m.\u001b[39mno_default:\n\u001b[0;32m   1027\u001b[0m     \u001b[38;5;28;01mreturn\u001b[39;00m obj\u001b[38;5;241m.\u001b[39mconvert_dtypes(\n\u001b[0;32m   1028\u001b[0m         infer_objects\u001b[38;5;241m=\u001b[39m\u001b[38;5;28;01mFalse\u001b[39;00m, dtype_backend\u001b[38;5;241m=\u001b[39m\u001b[38;5;28mself\u001b[39m\u001b[38;5;241m.\u001b[39mdtype_backend\n\u001b[0;32m   1029\u001b[0m     )\n",
      "File \u001b[1;32m~\\AppData\\Roaming\\Python\\Python313\\site-packages\\pandas\\io\\json\\_json.py:1051\u001b[0m, in \u001b[0;36mJsonReader._get_object_parser\u001b[1;34m(self, json)\u001b[0m\n\u001b[0;32m   1049\u001b[0m obj \u001b[38;5;241m=\u001b[39m \u001b[38;5;28;01mNone\u001b[39;00m\n\u001b[0;32m   1050\u001b[0m \u001b[38;5;28;01mif\u001b[39;00m typ \u001b[38;5;241m==\u001b[39m \u001b[38;5;124m\"\u001b[39m\u001b[38;5;124mframe\u001b[39m\u001b[38;5;124m\"\u001b[39m:\n\u001b[1;32m-> 1051\u001b[0m     obj \u001b[38;5;241m=\u001b[39m \u001b[43mFrameParser\u001b[49m\u001b[43m(\u001b[49m\u001b[43mjson\u001b[49m\u001b[43m,\u001b[49m\u001b[43m \u001b[49m\u001b[38;5;241;43m*\u001b[39;49m\u001b[38;5;241;43m*\u001b[39;49m\u001b[43mkwargs\u001b[49m\u001b[43m)\u001b[49m\u001b[38;5;241;43m.\u001b[39;49m\u001b[43mparse\u001b[49m\u001b[43m(\u001b[49m\u001b[43m)\u001b[49m\n\u001b[0;32m   1053\u001b[0m \u001b[38;5;28;01mif\u001b[39;00m typ \u001b[38;5;241m==\u001b[39m \u001b[38;5;124m\"\u001b[39m\u001b[38;5;124mseries\u001b[39m\u001b[38;5;124m\"\u001b[39m \u001b[38;5;129;01mor\u001b[39;00m obj \u001b[38;5;129;01mis\u001b[39;00m \u001b[38;5;28;01mNone\u001b[39;00m:\n\u001b[0;32m   1054\u001b[0m     \u001b[38;5;28;01mif\u001b[39;00m \u001b[38;5;129;01mnot\u001b[39;00m \u001b[38;5;28misinstance\u001b[39m(dtype, \u001b[38;5;28mbool\u001b[39m):\n",
      "File \u001b[1;32m~\\AppData\\Roaming\\Python\\Python313\\site-packages\\pandas\\io\\json\\_json.py:1187\u001b[0m, in \u001b[0;36mParser.parse\u001b[1;34m(self)\u001b[0m\n\u001b[0;32m   1185\u001b[0m \u001b[38;5;129m@final\u001b[39m\n\u001b[0;32m   1186\u001b[0m \u001b[38;5;28;01mdef\u001b[39;00m \u001b[38;5;21mparse\u001b[39m(\u001b[38;5;28mself\u001b[39m):\n\u001b[1;32m-> 1187\u001b[0m     \u001b[38;5;28;43mself\u001b[39;49m\u001b[38;5;241;43m.\u001b[39;49m\u001b[43m_parse\u001b[49m\u001b[43m(\u001b[49m\u001b[43m)\u001b[49m\n\u001b[0;32m   1189\u001b[0m     \u001b[38;5;28;01mif\u001b[39;00m \u001b[38;5;28mself\u001b[39m\u001b[38;5;241m.\u001b[39mobj \u001b[38;5;129;01mis\u001b[39;00m \u001b[38;5;28;01mNone\u001b[39;00m:\n\u001b[0;32m   1190\u001b[0m         \u001b[38;5;28;01mreturn\u001b[39;00m \u001b[38;5;28;01mNone\u001b[39;00m\n",
      "File \u001b[1;32m~\\AppData\\Roaming\\Python\\Python313\\site-packages\\pandas\\io\\json\\_json.py:1402\u001b[0m, in \u001b[0;36mFrameParser._parse\u001b[1;34m(self)\u001b[0m\n\u001b[0;32m   1399\u001b[0m orient \u001b[38;5;241m=\u001b[39m \u001b[38;5;28mself\u001b[39m\u001b[38;5;241m.\u001b[39morient\n\u001b[0;32m   1401\u001b[0m \u001b[38;5;28;01mif\u001b[39;00m orient \u001b[38;5;241m==\u001b[39m \u001b[38;5;124m\"\u001b[39m\u001b[38;5;124mcolumns\u001b[39m\u001b[38;5;124m\"\u001b[39m:\n\u001b[1;32m-> 1402\u001b[0m     \u001b[38;5;28mself\u001b[39m\u001b[38;5;241m.\u001b[39mobj \u001b[38;5;241m=\u001b[39m \u001b[43mDataFrame\u001b[49m\u001b[43m(\u001b[49m\n\u001b[0;32m   1403\u001b[0m \u001b[43m        \u001b[49m\u001b[43mujson_loads\u001b[49m\u001b[43m(\u001b[49m\u001b[43mjson\u001b[49m\u001b[43m,\u001b[49m\u001b[43m \u001b[49m\u001b[43mprecise_float\u001b[49m\u001b[38;5;241;43m=\u001b[39;49m\u001b[38;5;28;43mself\u001b[39;49m\u001b[38;5;241;43m.\u001b[39;49m\u001b[43mprecise_float\u001b[49m\u001b[43m)\u001b[49m\u001b[43m,\u001b[49m\u001b[43m \u001b[49m\u001b[43mdtype\u001b[49m\u001b[38;5;241;43m=\u001b[39;49m\u001b[38;5;28;43;01mNone\u001b[39;49;00m\n\u001b[0;32m   1404\u001b[0m \u001b[43m    \u001b[49m\u001b[43m)\u001b[49m\n\u001b[0;32m   1405\u001b[0m \u001b[38;5;28;01melif\u001b[39;00m orient \u001b[38;5;241m==\u001b[39m \u001b[38;5;124m\"\u001b[39m\u001b[38;5;124msplit\u001b[39m\u001b[38;5;124m\"\u001b[39m:\n\u001b[0;32m   1406\u001b[0m     decoded \u001b[38;5;241m=\u001b[39m {\n\u001b[0;32m   1407\u001b[0m         \u001b[38;5;28mstr\u001b[39m(k): v\n\u001b[0;32m   1408\u001b[0m         \u001b[38;5;28;01mfor\u001b[39;00m k, v \u001b[38;5;129;01min\u001b[39;00m ujson_loads(json, precise_float\u001b[38;5;241m=\u001b[39m\u001b[38;5;28mself\u001b[39m\u001b[38;5;241m.\u001b[39mprecise_float)\u001b[38;5;241m.\u001b[39mitems()\n\u001b[0;32m   1409\u001b[0m     }\n",
      "File \u001b[1;32m~\\AppData\\Roaming\\Python\\Python313\\site-packages\\pandas\\core\\frame.py:778\u001b[0m, in \u001b[0;36mDataFrame.__init__\u001b[1;34m(self, data, index, columns, dtype, copy)\u001b[0m\n\u001b[0;32m    772\u001b[0m     mgr \u001b[38;5;241m=\u001b[39m \u001b[38;5;28mself\u001b[39m\u001b[38;5;241m.\u001b[39m_init_mgr(\n\u001b[0;32m    773\u001b[0m         data, axes\u001b[38;5;241m=\u001b[39m{\u001b[38;5;124m\"\u001b[39m\u001b[38;5;124mindex\u001b[39m\u001b[38;5;124m\"\u001b[39m: index, \u001b[38;5;124m\"\u001b[39m\u001b[38;5;124mcolumns\u001b[39m\u001b[38;5;124m\"\u001b[39m: columns}, dtype\u001b[38;5;241m=\u001b[39mdtype, copy\u001b[38;5;241m=\u001b[39mcopy\n\u001b[0;32m    774\u001b[0m     )\n\u001b[0;32m    776\u001b[0m \u001b[38;5;28;01melif\u001b[39;00m \u001b[38;5;28misinstance\u001b[39m(data, \u001b[38;5;28mdict\u001b[39m):\n\u001b[0;32m    777\u001b[0m     \u001b[38;5;66;03m# GH#38939 de facto copy defaults to False only in non-dict cases\u001b[39;00m\n\u001b[1;32m--> 778\u001b[0m     mgr \u001b[38;5;241m=\u001b[39m \u001b[43mdict_to_mgr\u001b[49m\u001b[43m(\u001b[49m\u001b[43mdata\u001b[49m\u001b[43m,\u001b[49m\u001b[43m \u001b[49m\u001b[43mindex\u001b[49m\u001b[43m,\u001b[49m\u001b[43m \u001b[49m\u001b[43mcolumns\u001b[49m\u001b[43m,\u001b[49m\u001b[43m \u001b[49m\u001b[43mdtype\u001b[49m\u001b[38;5;241;43m=\u001b[39;49m\u001b[43mdtype\u001b[49m\u001b[43m,\u001b[49m\u001b[43m \u001b[49m\u001b[43mcopy\u001b[49m\u001b[38;5;241;43m=\u001b[39;49m\u001b[43mcopy\u001b[49m\u001b[43m,\u001b[49m\u001b[43m \u001b[49m\u001b[43mtyp\u001b[49m\u001b[38;5;241;43m=\u001b[39;49m\u001b[43mmanager\u001b[49m\u001b[43m)\u001b[49m\n\u001b[0;32m    779\u001b[0m \u001b[38;5;28;01melif\u001b[39;00m \u001b[38;5;28misinstance\u001b[39m(data, ma\u001b[38;5;241m.\u001b[39mMaskedArray):\n\u001b[0;32m    780\u001b[0m     \u001b[38;5;28;01mfrom\u001b[39;00m \u001b[38;5;21;01mnumpy\u001b[39;00m\u001b[38;5;21;01m.\u001b[39;00m\u001b[38;5;21;01mma\u001b[39;00m \u001b[38;5;28;01mimport\u001b[39;00m mrecords\n",
      "File \u001b[1;32m~\\AppData\\Roaming\\Python\\Python313\\site-packages\\pandas\\core\\internals\\construction.py:503\u001b[0m, in \u001b[0;36mdict_to_mgr\u001b[1;34m(data, index, columns, dtype, typ, copy)\u001b[0m\n\u001b[0;32m    499\u001b[0m     \u001b[38;5;28;01melse\u001b[39;00m:\n\u001b[0;32m    500\u001b[0m         \u001b[38;5;66;03m# dtype check to exclude e.g. range objects, scalars\u001b[39;00m\n\u001b[0;32m    501\u001b[0m         arrays \u001b[38;5;241m=\u001b[39m [x\u001b[38;5;241m.\u001b[39mcopy() \u001b[38;5;28;01mif\u001b[39;00m \u001b[38;5;28mhasattr\u001b[39m(x, \u001b[38;5;124m\"\u001b[39m\u001b[38;5;124mdtype\u001b[39m\u001b[38;5;124m\"\u001b[39m) \u001b[38;5;28;01melse\u001b[39;00m x \u001b[38;5;28;01mfor\u001b[39;00m x \u001b[38;5;129;01min\u001b[39;00m arrays]\n\u001b[1;32m--> 503\u001b[0m \u001b[38;5;28;01mreturn\u001b[39;00m \u001b[43marrays_to_mgr\u001b[49m\u001b[43m(\u001b[49m\u001b[43marrays\u001b[49m\u001b[43m,\u001b[49m\u001b[43m \u001b[49m\u001b[43mcolumns\u001b[49m\u001b[43m,\u001b[49m\u001b[43m \u001b[49m\u001b[43mindex\u001b[49m\u001b[43m,\u001b[49m\u001b[43m \u001b[49m\u001b[43mdtype\u001b[49m\u001b[38;5;241;43m=\u001b[39;49m\u001b[43mdtype\u001b[49m\u001b[43m,\u001b[49m\u001b[43m \u001b[49m\u001b[43mtyp\u001b[49m\u001b[38;5;241;43m=\u001b[39;49m\u001b[43mtyp\u001b[49m\u001b[43m,\u001b[49m\u001b[43m \u001b[49m\u001b[43mconsolidate\u001b[49m\u001b[38;5;241;43m=\u001b[39;49m\u001b[43mcopy\u001b[49m\u001b[43m)\u001b[49m\n",
      "File \u001b[1;32m~\\AppData\\Roaming\\Python\\Python313\\site-packages\\pandas\\core\\internals\\construction.py:114\u001b[0m, in \u001b[0;36marrays_to_mgr\u001b[1;34m(arrays, columns, index, dtype, verify_integrity, typ, consolidate)\u001b[0m\n\u001b[0;32m    111\u001b[0m \u001b[38;5;28;01mif\u001b[39;00m verify_integrity:\n\u001b[0;32m    112\u001b[0m     \u001b[38;5;66;03m# figure out the index, if necessary\u001b[39;00m\n\u001b[0;32m    113\u001b[0m     \u001b[38;5;28;01mif\u001b[39;00m index \u001b[38;5;129;01mis\u001b[39;00m \u001b[38;5;28;01mNone\u001b[39;00m:\n\u001b[1;32m--> 114\u001b[0m         index \u001b[38;5;241m=\u001b[39m \u001b[43m_extract_index\u001b[49m\u001b[43m(\u001b[49m\u001b[43marrays\u001b[49m\u001b[43m)\u001b[49m\n\u001b[0;32m    115\u001b[0m     \u001b[38;5;28;01melse\u001b[39;00m:\n\u001b[0;32m    116\u001b[0m         index \u001b[38;5;241m=\u001b[39m ensure_index(index)\n",
      "File \u001b[1;32m~\\AppData\\Roaming\\Python\\Python313\\site-packages\\pandas\\core\\internals\\construction.py:667\u001b[0m, in \u001b[0;36m_extract_index\u001b[1;34m(data)\u001b[0m\n\u001b[0;32m    664\u001b[0m         \u001b[38;5;28;01mraise\u001b[39;00m \u001b[38;5;167;01mValueError\u001b[39;00m(\u001b[38;5;124m\"\u001b[39m\u001b[38;5;124mPer-column arrays must each be 1-dimensional\u001b[39m\u001b[38;5;124m\"\u001b[39m)\n\u001b[0;32m    666\u001b[0m \u001b[38;5;28;01mif\u001b[39;00m \u001b[38;5;129;01mnot\u001b[39;00m indexes \u001b[38;5;129;01mand\u001b[39;00m \u001b[38;5;129;01mnot\u001b[39;00m raw_lengths:\n\u001b[1;32m--> 667\u001b[0m     \u001b[38;5;28;01mraise\u001b[39;00m \u001b[38;5;167;01mValueError\u001b[39;00m(\u001b[38;5;124m\"\u001b[39m\u001b[38;5;124mIf using all scalar values, you must pass an index\u001b[39m\u001b[38;5;124m\"\u001b[39m)\n\u001b[0;32m    669\u001b[0m \u001b[38;5;28;01mif\u001b[39;00m have_series:\n\u001b[0;32m    670\u001b[0m     index \u001b[38;5;241m=\u001b[39m union_indexes(indexes)\n",
      "\u001b[1;31mValueError\u001b[0m: If using all scalar values, you must pass an index"
     ]
    }
   ],
   "source": [
    "\n",
    "import pandas as pd\n",
    "df = pd.read_csv('read.json')# read.json must be wrapped by pandas\n",
    "print(df)"
   ]
  }
 ],
 "metadata": {
  "kernelspec": {
   "display_name": "Python 3",
   "language": "python",
   "name": "python3"
  },
  "language_info": {
   "codemirror_mode": {
    "name": "ipython",
    "version": 3
   },
   "file_extension": ".py",
   "mimetype": "text/x-python",
   "name": "python",
   "nbconvert_exporter": "python",
   "pygments_lexer": "ipython3",
   "version": "3.13.0"
  }
 },
 "nbformat": 4,
 "nbformat_minor": 2
}
