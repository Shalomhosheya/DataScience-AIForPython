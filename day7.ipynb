{
 "cells": [
  {
   "cell_type": "code",
   "execution_count": 21,
   "metadata": {},
   "outputs": [
    {
     "name": "stdout",
     "output_type": "stream",
     "text": [
      "[2 3 4] <class 'numpy.ndarray'>\n",
      "[ 7  8  7 12 25] <class 'numpy.ndarray'>\n",
      "[ 5 -2  3  4 -5] <class 'numpy.ndarray'>\n",
      "[  6  15  10  32 150] <class 'numpy.ndarray'>\n",
      "[6.         0.6        2.5        2.         0.66666667] <class 'numpy.ndarray'>\n",
      "10 <class 'type'>\n",
      "3 <class 'type'>\n"
     ]
    }
   ],
   "source": [
    "import numpy as np\n",
    "\n",
    "a = np.array([2,3,4])\n",
    "\n",
    "print(a,type(a))\n",
    "\n",
    "array1 = np.array([6,3,5,8,10])\n",
    "array2 = np.array([1,5,2,4,15])\n",
    "\n",
    "# adition\n",
    "\n",
    "adition_resualt = array1 + array2\n",
    "print(adition_resualt,type(adition_resualt))\n",
    "\n",
    "# substaction\n",
    "\n",
    "sub_resualt = array1 - array2\n",
    "print(sub_resualt,type(sub_resualt))\n",
    "\n",
    "# multipication\n",
    "\n",
    "multipication_resualt = array1 * array2\n",
    "print(multipication_resualt,type(multipication_resualt))\n",
    "\n",
    "# divition\n",
    "\n",
    "divition_resualt = array1 / array2\n",
    "print(divition_resualt,type(divition_resualt))\n",
    "\n",
    "result = np.max(array1)\n",
    "result2 = np.min(array1)\n",
    "print(result,type)\n",
    "print(result2,type)\n"
   ]
  },
  {
   "cell_type": "code",
   "execution_count": null,
   "metadata": {},
   "outputs": [
    {
     "name": "stdout",
     "output_type": "stream",
     "text": [
      "(2, 5)\n",
      "14\n",
      "(2, 2, 5)\n",
      "int64\n",
      "3\n"
     ]
    }
   ],
   "source": [
    "import numpy as np\n",
    "\n",
    "array_1 = np.array([[1,2,3,4,5],[6,7,8,9,10]])#2D array same values must be same in length\n",
    "print(array_1.shape)\n",
    "\n",
    "array_2 = np.array([[[1,2,3,4,5],[6,7,8,9,10]],[[11,12,13,14,15],[16,17,18,19,20]]])#3D array\n",
    "print(array_2[1,0,3])#selecting the array value\n",
    "\n",
    "print(array_2.shape)\n",
    "\n",
    "array= np.array([1,2,3])\n",
    "print(array.dtype)\n",
    "print(array.size)"
   ]
  },
  {
   "cell_type": "code",
   "execution_count": 32,
   "metadata": {},
   "outputs": [
    {
     "name": "stdout",
     "output_type": "stream",
     "text": [
      "3\n"
     ]
    }
   ],
   "source": [
    "array = np.array([[[1,2], [3,4]],[[5,6],[7,8]],[[9,10],[11,12]]])\n",
    "print(array.ndim)"
   ]
  },
  {
   "cell_type": "code",
   "execution_count": 68,
   "metadata": {},
   "outputs": [
    {
     "name": "stdout",
     "output_type": "stream",
     "text": [
      "[[11 12 13 14 15]\n",
      " [16 17 18 19 20]\n",
      " [21 22 23 24 25]\n",
      " [26 27 28 29 30]] \n",
      "\n",
      "[[22 24 26 28 30]\n",
      " [32 34 36 38 40]\n",
      " [42 44 46 48 50]\n",
      " [52 54 56 58 60]] \n",
      "\n",
      "[[ 484  576  676  784  900]\n",
      " [1024 1156 1296 1444 1600]\n",
      " [1764 1936 2116 2304 2500]\n",
      " [2704 2916 3136 3364 3600]]\n"
     ]
    }
   ],
   "source": [
    "import math \n",
    "\n",
    "array_1 = np.array([[1,2,3,4,5],[6,7,8,9,10],[11,12,13,14,15],[16,17,18,19,20]])\n",
    "\n",
    "array_3 = array_1 + 10\n",
    "print(array_3,\"\\n\")\n",
    "array_3 *=2\n",
    "print(array_3,\"\\n\")\n",
    "array_4= array_3 **2\n",
    "print(array_4)    "
   ]
  },
  {
   "cell_type": "code",
   "execution_count": 67,
   "metadata": {},
   "outputs": [
    {
     "name": "stdout",
     "output_type": "stream",
     "text": [
      "[13 13]\n"
     ]
    }
   ],
   "source": [
    "import numpy as np\n",
    "array_5 = np.array([10,11,12,13,13])\n",
    "con = array_5 >12\n",
    "fil = array_5[con]\n",
    "print(fil)"
   ]
  },
  {
   "cell_type": "code",
   "execution_count": 70,
   "metadata": {},
   "outputs": [
    {
     "name": "stdout",
     "output_type": "stream",
     "text": [
      "[30 40]\n"
     ]
    }
   ],
   "source": [
    "array = np.array([10,20,30,40,50])\n",
    "fil = array[(array>20)&(array<50)]\n",
    "print(fil)"
   ]
  },
  {
   "cell_type": "code",
   "execution_count": 72,
   "metadata": {},
   "outputs": [
    {
     "name": "stdout",
     "output_type": "stream",
     "text": [
      "[0. 0. 0. 0. 0.]\n",
      "\n",
      " [[0. 0. 0.]\n",
      " [0. 0. 0.]]\n"
     ]
    }
   ],
   "source": [
    "array = np.zeros(5)\n",
    "\n",
    "print(array)\n",
    "\n",
    "array_2 = np.zeros((2,3))\n",
    "\n",
    "print(\"\\n\",array_2)"
   ]
  },
  {
   "cell_type": "code",
   "execution_count": 74,
   "metadata": {},
   "outputs": [
    {
     "name": "stdout",
     "output_type": "stream",
     "text": [
      "\n",
      " [7 7 7 7]\n",
      "\n",
      " [[8 8 8]\n",
      " [8 8 8]]\n"
     ]
    }
   ],
   "source": [
    "array = np.full(4,7)\n",
    "print(\"\\n\",array)\n",
    "\n",
    "array_2 = np.full((2,3),8)\n",
    "\n",
    "print(\"\\n\",array_2)"
   ]
  },
  {
   "cell_type": "code",
   "execution_count": null,
   "metadata": {},
   "outputs": [],
   "source": []
  }
 ],
 "metadata": {
  "kernelspec": {
   "display_name": "Python 3",
   "language": "python",
   "name": "python3"
  },
  "language_info": {
   "codemirror_mode": {
    "name": "ipython",
    "version": 3
   },
   "file_extension": ".py",
   "mimetype": "text/x-python",
   "name": "python",
   "nbconvert_exporter": "python",
   "pygments_lexer": "ipython3",
   "version": "3.13.0"
  }
 },
 "nbformat": 4,
 "nbformat_minor": 2
}
