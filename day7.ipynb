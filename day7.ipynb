{
 "cells": [
  {
   "cell_type": "code",
   "execution_count": 21,
   "metadata": {},
   "outputs": [
    {
     "name": "stdout",
     "output_type": "stream",
     "text": [
      "[2 3 4] <class 'numpy.ndarray'>\n",
      "[ 7  8  7 12 25] <class 'numpy.ndarray'>\n",
      "[ 5 -2  3  4 -5] <class 'numpy.ndarray'>\n",
      "[  6  15  10  32 150] <class 'numpy.ndarray'>\n",
      "[6.         0.6        2.5        2.         0.66666667] <class 'numpy.ndarray'>\n",
      "10 <class 'type'>\n",
      "3 <class 'type'>\n"
     ]
    }
   ],
   "source": [
    "import numpy as np\n",
    "\n",
    "a = np.array([2,3,4])\n",
    "\n",
    "print(a,type(a))\n",
    "\n",
    "array1 = np.array([6,3,5,8,10])\n",
    "array2 = np.array([1,5,2,4,15])\n",
    "\n",
    "# adition\n",
    "\n",
    "adition_resualt = array1 + array2\n",
    "print(adition_resualt,type(adition_resualt))\n",
    "\n",
    "# substaction\n",
    "\n",
    "sub_resualt = array1 - array2\n",
    "print(sub_resualt,type(sub_resualt))\n",
    "\n",
    "# multipication\n",
    "\n",
    "multipication_resualt = array1 * array2\n",
    "print(multipication_resualt,type(multipication_resualt))\n",
    "\n",
    "# divition\n",
    "\n",
    "divition_resualt = array1 / array2\n",
    "print(divition_resualt,type(divition_resualt))\n",
    "\n",
    "result = np.max(array1)\n",
    "result2 = np.min(array1)\n",
    "print(result,type)\n",
    "print(result2,type)\n"
   ]
  },
  {
   "cell_type": "code",
   "execution_count": null,
   "metadata": {},
   "outputs": [
    {
     "name": "stdout",
     "output_type": "stream",
     "text": [
      "(2, 5)\n",
      "14\n",
      "(2, 2, 5)\n",
      "int64\n",
      "3\n"
     ]
    }
   ],
   "source": [
    "import numpy as np\n",
    "\n",
    "array_1 = np.array([[1,2,3,4,5],[6,7,8,9,10]])#2D array same values must be same in length\n",
    "print(array_1.shape)\n",
    "\n",
    "array_2 = np.array([[[1,2,3,4,5],[6,7,8,9,10]],[[11,12,13,14,15],[16,17,18,19,20]]])#3D array\n",
    "print(array_2[1,0,3])#selecting the array value\n",
    "\n",
    "print(array_2.shape)\n",
    "\n",
    "array= np.array([1,2,3])\n",
    "print(array.dtype)\n",
    "print(array.size)"
   ]
  },
  {
   "cell_type": "code",
   "execution_count": 32,
   "metadata": {},
   "outputs": [
    {
     "name": "stdout",
     "output_type": "stream",
     "text": [
      "3\n"
     ]
    }
   ],
   "source": [
    "array = np.array([[[1,2], [3,4]],[[5,6],[7,8]],[[9,10],[11,12]]])\n",
    "print(array.ndim)"
   ]
  },
  {
   "cell_type": "code",
   "execution_count": 68,
   "metadata": {},
   "outputs": [
    {
     "name": "stdout",
     "output_type": "stream",
     "text": [
      "[[11 12 13 14 15]\n",
      " [16 17 18 19 20]\n",
      " [21 22 23 24 25]\n",
      " [26 27 28 29 30]] \n",
      "\n",
      "[[22 24 26 28 30]\n",
      " [32 34 36 38 40]\n",
      " [42 44 46 48 50]\n",
      " [52 54 56 58 60]] \n",
      "\n",
      "[[ 484  576  676  784  900]\n",
      " [1024 1156 1296 1444 1600]\n",
      " [1764 1936 2116 2304 2500]\n",
      " [2704 2916 3136 3364 3600]]\n"
     ]
    }
   ],
   "source": [
    "import math \n",
    "\n",
    "array_1 = np.array([[1,2,3,4,5],[6,7,8,9,10],[11,12,13,14,15],[16,17,18,19,20]])\n",
    "\n",
    "array_3 = array_1 + 10\n",
    "print(array_3,\"\\n\")\n",
    "array_3 *=2\n",
    "print(array_3,\"\\n\")\n",
    "array_4= array_3 **2\n",
    "print(array_4)    "
   ]
  },
  {
   "cell_type": "code",
   "execution_count": 67,
   "metadata": {},
   "outputs": [
    {
     "name": "stdout",
     "output_type": "stream",
     "text": [
      "[13 13]\n"
     ]
    }
   ],
   "source": [
    "import numpy as np\n",
    "array_5 = np.array([10,11,12,13,13])\n",
    "con = array_5 >12\n",
    "fil = array_5[con]\n",
    "print(fil)"
   ]
  },
  {
   "cell_type": "code",
   "execution_count": 70,
   "metadata": {},
   "outputs": [
    {
     "name": "stdout",
     "output_type": "stream",
     "text": [
      "[30 40]\n"
     ]
    }
   ],
   "source": [
    "array = np.array([10,20,30,40,50])\n",
    "fil = array[(array>20)&(array<50)]\n",
    "print(fil)"
   ]
  },
  {
   "cell_type": "code",
   "execution_count": 72,
   "metadata": {},
   "outputs": [
    {
     "name": "stdout",
     "output_type": "stream",
     "text": [
      "[0. 0. 0. 0. 0.]\n",
      "\n",
      " [[0. 0. 0.]\n",
      " [0. 0. 0.]]\n"
     ]
    }
   ],
   "source": [
    "array = np.zeros(5)\n",
    "\n",
    "print(array)\n",
    "\n",
    "array_2 = np.zeros((2,3))\n",
    "\n",
    "print(\"\\n\",array_2)"
   ]
  },
  {
   "cell_type": "code",
   "execution_count": 74,
   "metadata": {},
   "outputs": [
    {
     "name": "stdout",
     "output_type": "stream",
     "text": [
      "\n",
      " [7 7 7 7]\n",
      "\n",
      " [[8 8 8]\n",
      " [8 8 8]]\n"
     ]
    }
   ],
   "source": [
    "array = np.full(4,7)\n",
    "print(\"\\n\",array)\n",
    "\n",
    "array_2 = np.full((2,3),8)\n",
    "\n",
    "print(\"\\n\",array_2)"
   ]
  },
  {
   "cell_type": "code",
   "execution_count": 102,
   "metadata": {},
   "outputs": [
    {
     "name": "stdout",
     "output_type": "stream",
     "text": [
      "[[0. 0. 0.]\n",
      " [0. 0. 0.]]\n"
     ]
    }
   ],
   "source": [
    "array = np.empty((2,3))\n",
    "print(array)"
   ]
  },
  {
   "cell_type": "code",
   "execution_count": 118,
   "metadata": {},
   "outputs": [
    {
     "name": "stdout",
     "output_type": "stream",
     "text": [
      "[ 2  4  6  8 10 12 14 16 18 20] /n\n",
      "\n",
      " [40 50]\n"
     ]
    }
   ],
   "source": [
    "# *Create one dimensional numpy array with values 1 to 20 use Boolean index into extract all even numbers\n",
    "\n",
    "# *Create a numpy array with elements 10,20,30,40,50 use Boolean index in to extract own elements greater than the mean of the array\n",
    "\n",
    "\n",
    "array = np.array([1,2,3,4,5,6,7,8,9,10,11,12,13,14,15,16,17,18,19,20])\n",
    "con = array%2 == 0\n",
    "fil = array[con]\n",
    "print(fil,\"/n\")\n",
    "\n",
    "# array_2 = np.array([10,20,30,40,50])\n",
    "# con = array_2 + array_2 / len(array)> array_2\n",
    "# print(\"\\n\",con)\n",
    "\n",
    "array_2 = np.array([10,20,30,40,50])\n",
    "mean_value = np.mean(array_2)\n",
    "fil = array_2[array_2>mean_value]\n",
    "print(\"\\n\",fil)\n"
   ]
  },
  {
   "cell_type": "code",
   "execution_count": null,
   "metadata": {},
   "outputs": [
    {
     "name": "stdout",
     "output_type": "stream",
     "text": [
      "    Name  Age         City\n",
      "0   John   25     New York\n",
      "1   Anna   33  Los Angeles\n",
      "2  Peter   27        Paris\n",
      "3  Linda   29        Tokyo\n",
      "\n",
      " John\n",
      "\n",
      " 25\n",
      "\n",
      " Name           Anna\n",
      "Age              33\n",
      "City    Los Angeles\n",
      "Name: 1, dtype: object\n",
      "\n",
      "    Name  Age         City\n",
      "0  John   25     New York\n",
      "1  Anna   33  Los Angeles\n"
     ]
    }
   ],
   "source": [
    "import pandas as pd\n",
    "\n",
    "data = {'Name': ['John', 'Anna', 'Peter', 'Linda'],\n",
    "        'Age': [25, 33, 27, 29],\n",
    "        'City': ['New York', 'Los Angeles', 'Paris', 'Tokyo']}\n",
    "df = pd.DataFrame(data)\n",
    "print(df)\n",
    "\n",
    "print(\"\\n\",df.loc[0,\"Name\"])\n",
    "print(\"\\n\",df.loc[0,\"Age\"])\n",
    "print(\"\\n\",df.loc[1])\n",
    "print(\"\\n\",df.loc[[0,1]]) #returns multiple rows\n"
   ]
  },
  {
   "cell_type": "code",
   "execution_count": 144,
   "metadata": {},
   "outputs": [
    {
     "name": "stdout",
     "output_type": "stream",
     "text": [
      "       calories  duration\n",
      "day 1       420        50\n",
      "day 2       220        45\n",
      "day 3       500        60\n",
      "\n",
      " calories    220\n",
      "duration     45\n",
      "Name: day 2, dtype: int64\n",
      "\n",
      "        calories  duration\n",
      "day 1       420        50\n",
      "day 3       500        60\n",
      "\n",
      " day 1    420\n",
      "day 2    220\n",
      "day 3    500\n",
      "Name: calories, dtype: int64\n",
      "\n",
      " (3, 2)\n"
     ]
    }
   ],
   "source": [
    "import pandas as pd\n",
    "data={\n",
    "  \"calories\":[420,220,500],\n",
    "  \"duration\":[50,45,60]\n",
    "}\n",
    "\n",
    "df = pd.DataFrame(data,index = [\"day 1\",\"day 2\",\"day 3\"])\n",
    "print(df)\n",
    "print(\"\\n\",df.loc[\"day 2\"])\n",
    "print(\"\\n\",df.loc[[\"day 1\",\"day 3\"]])\n",
    "print(\"\\n\",df[\"calories\"])\n",
    "print(\"\\n\",df.shape)"
   ]
  },
  {
   "cell_type": "code",
   "execution_count": null,
   "metadata": {},
   "outputs": [],
   "source": []
  }
 ],
 "metadata": {
  "kernelspec": {
   "display_name": "Python 3",
   "language": "python",
   "name": "python3"
  },
  "language_info": {
   "codemirror_mode": {
    "name": "ipython",
    "version": 3
   },
   "file_extension": ".py",
   "mimetype": "text/x-python",
   "name": "python",
   "nbconvert_exporter": "python",
   "pygments_lexer": "ipython3",
   "version": "3.13.0"
  }
 },
 "nbformat": 4,
 "nbformat_minor": 2
}
