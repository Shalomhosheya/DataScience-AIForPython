{
 "cells": [
  {
   "cell_type": "code",
   "execution_count": 58,
   "metadata": {},
   "outputs": [
    {
     "name": "stdout",
     "output_type": "stream",
     "text": [
      "BMW\n",
      "blue\n",
      "motor vehicle\n"
     ]
    }
   ],
   "source": [
    "class Car:\n",
    "    catergory =\"motor vehicle\"\n",
    "   \n",
    "    def __init__(self, brand,color):\n",
    "        self.brand = brand\n",
    "        self.color = color\n",
    "\n",
    "    def display(self): #need to use self keyword\n",
    "        print(self.brand)\n",
    "        print(self.color)\n",
    "    def update(self,new_model,new_color): \n",
    "        self.brand = new_model\n",
    "        self.color = new_color\n",
    "\n",
    "new_car = Car(\"BMW\",\"blue\")\n",
    "\n",
    "new_car.display() \n",
    "\n",
    "new_car.update(\"Toyota\",\"red\")\n",
    "\n",
    "print(Car.catergory)\n",
    "\n"
   ]
  },
  {
   "cell_type": "code",
   "execution_count": 105,
   "metadata": {},
   "outputs": [
    {
     "name": "stdout",
     "output_type": "stream",
     "text": [
      "Deposit successful 1500\n",
      "withdraw successfull 2000\n",
      "Insufficient balance amount\n"
     ]
    }
   ],
   "source": [
    "class bankAccount:\n",
    "    accountholder = \"\"\n",
    "    balance = 0.0\n",
    "    def __init__(self,accountholder,balance):\n",
    "       self.accountholder = accountholder\n",
    "       self.balance = balance\n",
    "\n",
    "    def deposit(self, amount):\n",
    "      \n",
    "     if amount > 0:\n",
    "      self.balance += amount\n",
    "      print(\"Deposit successful\",self.balance)\n",
    "      return self.balance\n",
    "     else:\n",
    "      print(\"Invalid deposit amount\")\n",
    "\n",
    "    def withdraw(self,amount):\n",
    "      if amount > 0:\n",
    "        self.balance =amount\n",
    "        print(\"withdraw successfull\",self.balance)\n",
    "        return self.balance\n",
    "      else:\n",
    "        print(\"Invalid withdrawal amount\")\n",
    "\n",
    "    def balance1(self,amount,dep):\n",
    "     amo = dep - amount\n",
    "     \n",
    "     if amo > 0:\n",
    "       self.balance -= amount\n",
    "       print(\"balance: \",amo)\n",
    "     else:\n",
    "        print(\"Insufficient balance amount\")\n",
    "\n",
    "name = input(\"Enter the name\")\n",
    "amount = input(\"Enter the amount\")\n",
    "check = int(amount)\n",
    "account = bankAccount(name,int(amount))\n",
    "\n",
    "if check > 0:\n",
    "    dep =account.deposit(1000)\n",
    "    ar = account.withdraw(2000)\n",
    "    account.balance1(ar,dep)\n",
    "else:\n",
    "  print(\"Invalid amount\")\n"
   ]
  },
  {
   "cell_type": "code",
   "execution_count": null,
   "metadata": {},
   "outputs": [
    {
     "name": "stdout",
     "output_type": "stream",
     "text": [
      "Buddy\n"
     ]
    }
   ],
   "source": [
    "class Animal:\n",
    "    def __init__(self, name):\n",
    "        self.name = name\n",
    "    def speak(self):\n",
    "        pass    #there is nothing in the body   \n",
    "\n",
    "class Dog(Animal):\n",
    "    def speak(self):\n",
    "        print(self.name,\"says woof\")\n",
    "\n",
    "class Cat(Animal):\n",
    "    def speak(self):\n",
    "        print(self.name,\"says meow\")\n",
    "\n",
    "dog = Dog(\"Buddy\")\n",
    "print(dog.name) "
   ]
  },
  {
   "cell_type": "code",
   "execution_count": 108,
   "metadata": {},
   "outputs": [
    {
     "name": "stdout",
     "output_type": "stream",
     "text": [
      "buddy   black\n"
     ]
    }
   ],
   "source": [
    "class Animal:\n",
    "    def __init__(self, name):\n",
    "        self.name = name\n",
    "    def speak(self):\n",
    "        pass    #there is nothing in the body   \n",
    "\n",
    "\n",
    "class Dog(Animal):\n",
    "    def __init__(self, name,color):\n",
    "        self.color = color\n",
    "        super().__init__(name)\n",
    "\n",
    "dog = Dog(\"buddy\",\"black\")\n",
    "\n",
    "print(dog.name,\" \",dog.color)"
   ]
  },
  {
   "cell_type": "code",
   "execution_count": null,
   "metadata": {},
   "outputs": [
    {
     "name": "stdout",
     "output_type": "stream",
     "text": [
      "Title: vendor of sweets\n",
      "Author: RK Narayan\n",
      "Publication Year: 1987\n",
      "Genre: Cultural\n",
      "ISBN: 188481848\n",
      "\n",
      "\n",
      "Title: vendor of sweets\n",
      "Author: RK Narayan\n",
      "Publication Year: 1987\n",
      "Issue Number: 15484844\n",
      "Date: 2024-12-05\n"
     ]
    }
   ],
   "source": [
    "class Library:\n",
    "    def __init__(self, title,author,publication_year):\n",
    "        self.title = title\n",
    "        self.author = author\n",
    "        self.publication_year = publication_year\n",
    "    def display_info(self):\n",
    "        print(\"Title:\",self.title)\n",
    "        print(\"Author:\",self.author)\n",
    "        print(\"Publication Year:\",self.publication_year)\n",
    "class Book(Library):\n",
    "    def __init__(self, title, author, publication_year, genre,ISBM):\n",
    "        self.genre = genre\n",
    "        self.ISBM = ISBM\n",
    "        super().__init__(title, author, publication_year)\n",
    "    def display_additional_info(self):\n",
    "        print(\"Title:\",self.title)\n",
    "        print(\"Author:\",self.author)\n",
    "        print(\"Publication Year:\",self.publication_year)\n",
    "        print(\"Genre:\",self.genre)\n",
    "        print(\"ISBN:\",self.ISBM)\n",
    "\n",
    "class Magazine(Library):\n",
    "    def __init__(self, title, author, publication_year, date,issue_number):\n",
    "        self.date = date\n",
    "        self.issue_number = issue_number\n",
    "        super().__init__(title, author, publication_year)\n",
    "    def display_additional_info(self):\n",
    "        print(\"Title:\",self.title)\n",
    "        print(\"Author:\",self.author)\n",
    "        print(\"Publication Year:\",self.publication_year)\n",
    "        print(\"Issue Number:\",self.issue_number)\n",
    "        print(\"Date:\",self.date)\n",
    "\n",
    "book = Book(\"vendor of sweets\",\"RK Narayan\",\"1987\",\"Cultural\",188481848)\n",
    "magazine = Magazine(\"vendor of sweets\",\"RK Narayan\",\"1987\",\"2024-12-05\",15484844)\n",
    "\n",
    "book.display_additional_info()\n",
    "\n",
    "print(\"\\n\")\n",
    "magazine.display_additional_info()"
   ]
  },
  {
   "cell_type": "code",
   "execution_count": 2,
   "metadata": {},
   "outputs": [
    {
     "name": "stdout",
     "output_type": "stream",
     "text": [
      "test\n",
      "test 1\n"
     ]
    }
   ],
   "source": [
    "class MyClass:\n",
    "    def __init__(self,protected_var,private_var):\n",
    "        self.protected = protected_var\n",
    "        self.private = private_var\n",
    "my_obj = MyClass(\"test\",\"test 1\")\n",
    "\n",
    "print(my_obj.protected)\n",
    "print(my_obj.private)"
   ]
  },
  {
   "cell_type": "code",
   "execution_count": null,
   "metadata": {},
   "outputs": [
    {
     "name": "stdout",
     "output_type": "stream",
     "text": [
      "Protected method called\n"
     ]
    },
    {
     "ename": "AttributeError",
     "evalue": "'MyClass' object has no attribute '__private_method'",
     "output_type": "error",
     "traceback": [
      "\u001b[1;31m---------------------------------------------------------------------------\u001b[0m",
      "\u001b[1;31mAttributeError\u001b[0m                            Traceback (most recent call last)",
      "Cell \u001b[1;32mIn[3], line 12\u001b[0m\n\u001b[0;32m     10\u001b[0m my_obj \u001b[38;5;241m=\u001b[39m MyClass(\u001b[38;5;124m\"\u001b[39m\u001b[38;5;124mtest\u001b[39m\u001b[38;5;124m\"\u001b[39m,\u001b[38;5;124m\"\u001b[39m\u001b[38;5;124mtest 1\u001b[39m\u001b[38;5;124m\"\u001b[39m)\n\u001b[0;32m     11\u001b[0m my_obj\u001b[38;5;241m.\u001b[39m_protected_method()\n\u001b[1;32m---> 12\u001b[0m \u001b[43mmy_obj\u001b[49m\u001b[38;5;241;43m.\u001b[39;49m\u001b[43m__private_method\u001b[49m() \u001b[38;5;66;03m#cannot call private method because private\u001b[39;00m\n",
      "\u001b[1;31mAttributeError\u001b[0m: 'MyClass' object has no attribute '__private_method'"
     ]
    }
   ],
   "source": [
    "class MyClass:\n",
    "    def __init__(self, protected_var, private_var):\n",
    "        self._protected = protected_var\n",
    "        self._private = private_var\n",
    "    def _protected_method(self):\n",
    "        print(\"Protected method called\")\n",
    "    def __private_method(self):\n",
    "        print(\"Private method called\")\n",
    "\n",
    "my_obj = MyClass(\"test\",\"test 1\")\n",
    "my_obj._protected_method()\n",
    "# my_obj.__private_method() #cannot call private method because private"
   ]
  },
  {
   "cell_type": "code",
   "execution_count": null,
   "metadata": {},
   "outputs": [
    {
     "ename": "AttributeError",
     "evalue": "'MyClass' object has no attribute '__data'",
     "output_type": "error",
     "traceback": [
      "\u001b[1;31m---------------------------------------------------------------------------\u001b[0m",
      "\u001b[1;31mAttributeError\u001b[0m                            Traceback (most recent call last)",
      "Cell \u001b[1;32mIn[4], line 11\u001b[0m\n\u001b[0;32m      8\u001b[0m         \u001b[38;5;28mprint\u001b[39m(\u001b[38;5;124m'\u001b[39m\u001b[38;5;124mvalue of \u001b[39m\u001b[38;5;124m'\u001b[39m,value)\n\u001b[0;32m     10\u001b[0m classGetAndSet \u001b[38;5;241m=\u001b[39m MyClass()  \n\u001b[1;32m---> 11\u001b[0m \u001b[43mclassGetAndSet\u001b[49m\u001b[38;5;241;43m.\u001b[39;49m\u001b[43m__data\u001b[49m\n\u001b[0;32m     13\u001b[0m classGetAndSet\u001b[38;5;241m.\u001b[39mget_data()\n\u001b[0;32m     15\u001b[0m classGetAndSet\u001b[38;5;241m.\u001b[39mset_data(\u001b[38;5;241m10\u001b[39m)\n",
      "\u001b[1;31mAttributeError\u001b[0m: 'MyClass' object has no attribute '__data'"
     ]
    }
   ],
   "source": [
    "class MyClass:\n",
    "    def __init__(self):\n",
    "        self.__data = \"capsulated data\"\n",
    "    def get_data(self):\n",
    "        print('value of ',self.__data)\n",
    "    def set_data(self, value):\n",
    "        self.__data = value\n",
    "        print('value of ',value)\n",
    "\n",
    "classGetAndSet = MyClass()  \n",
    "\n",
    "\n",
    "classGetAndSet.get_data()\n",
    "\n",
    "classGetAndSet.set_data(10)\n",
    "\n",
    "classGetAndSet.get_data()\n"
   ]
  },
  {
   "cell_type": "code",
   "execution_count": null,
   "metadata": {},
   "outputs": [],
   "source": [
    "class Quadratic_equation:\n",
    "    def __init__(self, a, b, c):\n",
    "        self.__a = a\n",
    "        self.__b = b\n",
    "        self.__c = c\n",
    "    def getData(self):\n",
    "        print('value of ',self.__a)\n",
    "    def setData(self,a,b,c):\n",
    "        self.__a = a\n",
    "        self.__b = b\n",
    "        self.__c = c\n",
    "         \n",
    "\n",
    "\n",
    "\n",
    "answer =Quadratic_equation()\n",
    "\n",
    "answer.setData()\n",
    "    "
   ]
  },
  {
   "cell_type": "code",
   "execution_count": null,
   "metadata": {},
   "outputs": [
    {
     "ename": "SyntaxError",
     "evalue": "Did you mean to use 'from ... import ...' instead? (973842400.py, line 1)",
     "output_type": "error",
     "traceback": [
      "\u001b[1;36m  Cell \u001b[1;32mIn[135], line 1\u001b[1;36m\u001b[0m\n\u001b[1;33m    import math from math\u001b[0m\n\u001b[1;37m    ^\u001b[0m\n\u001b[1;31mSyntaxError\u001b[0m\u001b[1;31m:\u001b[0m Did you mean to use 'from ... import ...' instead?\n"
     ]
    }
   ],
   "source": []
  }
 ],
 "metadata": {
  "kernelspec": {
   "display_name": "Python 3",
   "language": "python",
   "name": "python3"
  },
  "language_info": {
   "codemirror_mode": {
    "name": "ipython",
    "version": 3
   },
   "file_extension": ".py",
   "mimetype": "text/x-python",
   "name": "python",
   "nbconvert_exporter": "python",
   "pygments_lexer": "ipython3",
   "version": "3.13.0"
  }
 },
 "nbformat": 4,
 "nbformat_minor": 2
}
