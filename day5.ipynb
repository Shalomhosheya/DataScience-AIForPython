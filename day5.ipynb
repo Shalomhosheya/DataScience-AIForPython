{
 "cells": [
  {
   "cell_type": "code",
   "execution_count": 58,
   "metadata": {},
   "outputs": [
    {
     "name": "stdout",
     "output_type": "stream",
     "text": [
      "BMW\n",
      "blue\n",
      "motor vehicle\n"
     ]
    }
   ],
   "source": [
    "class Car:\n",
    "    catergory =\"motor vehicle\"\n",
    "   \n",
    "    def __init__(self, brand,color):\n",
    "        self.brand = brand\n",
    "        self.color = color\n",
    "\n",
    "    def display(self): #need to use self keyword\n",
    "        print(self.brand)\n",
    "        print(self.color)\n",
    "    def update(self,new_model,new_color): \n",
    "        self.brand = new_model\n",
    "        self.color = new_color\n",
    "\n",
    "new_car = Car(\"BMW\",\"blue\")\n",
    "\n",
    "new_car.display() \n",
    "\n",
    "new_car.update(\"Toyota\",\"red\")\n",
    "\n",
    "print(Car.catergory)\n",
    "\n"
   ]
  },
  {
   "cell_type": "code",
   "execution_count": 99,
   "metadata": {},
   "outputs": [
    {
     "name": "stdout",
     "output_type": "stream",
     "text": [
      "Deposit successful 1500\n",
      "withdraw successfull 2000\n",
      "balance:  -500\n"
     ]
    }
   ],
   "source": [
    "class bankAccount:\n",
    "    accountholder = \"\"\n",
    "    balance = 0.0\n",
    "    def __init__(self,accountholder,balance):\n",
    "       self.accountholder = accountholder\n",
    "       self.balance = balance\n",
    "\n",
    "    def deposit(self, amount):\n",
    "      \n",
    "     if amount > 0:\n",
    "      self.balance += amount\n",
    "      print(\"Deposit successful\",self.balance)\n",
    "      return self.balance\n",
    "     else:\n",
    "      print(\"Invalid deposit amount\")\n",
    "\n",
    "    def withdraw(self,amount):\n",
    "      if amount > 0:\n",
    "        self.balance =amount\n",
    "        print(\"withdraw successfull\",self.balance)\n",
    "        return self.balance\n",
    "      else:\n",
    "        print(\"Invalid withdrawal amount\")\n",
    "\n",
    "    def balance1(self,amount,dep):\n",
    "     self.balance -= amount\n",
    "     print(\"balance: \",dep-amount)\n",
    "\n",
    "name = input(\"Enter the name\")\n",
    "amount = input(\"Enter the amount\")\n",
    "check = int(amount)\n",
    "account = bankAccount(name,int(amount))\n",
    "\n",
    "if check > 0:\n",
    "    dep =account.deposit(1000)\n",
    "    ar = account.withdraw(2000)\n",
    "    account.balance1(ar,dep)\n",
    "else:\n",
    "  print(\"Invalid amount\")\n"
   ]
  }
 ],
 "metadata": {
  "kernelspec": {
   "display_name": "Python 3",
   "language": "python",
   "name": "python3"
  },
  "language_info": {
   "codemirror_mode": {
    "name": "ipython",
    "version": 3
   },
   "file_extension": ".py",
   "mimetype": "text/x-python",
   "name": "python",
   "nbconvert_exporter": "python",
   "pygments_lexer": "ipython3",
   "version": "3.13.0"
  }
 },
 "nbformat": 4,
 "nbformat_minor": 2
}
