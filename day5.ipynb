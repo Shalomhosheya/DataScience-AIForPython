{
 "cells": [
  {
   "cell_type": "code",
   "execution_count": 58,
   "metadata": {},
   "outputs": [
    {
     "name": "stdout",
     "output_type": "stream",
     "text": [
      "BMW\n",
      "blue\n",
      "motor vehicle\n"
     ]
    }
   ],
   "source": [
    "class Car:\n",
    "    catergory =\"motor vehicle\"\n",
    "   \n",
    "    def __init__(self, brand,color):\n",
    "        self.brand = brand\n",
    "        self.color = color\n",
    "\n",
    "    def display(self): #need to use self keyword\n",
    "        print(self.brand)\n",
    "        print(self.color)\n",
    "    def update(self,new_model,new_color): \n",
    "        self.brand = new_model\n",
    "        self.color = new_color\n",
    "\n",
    "new_car = Car(\"BMW\",\"blue\")\n",
    "\n",
    "new_car.display() \n",
    "\n",
    "new_car.update(\"Toyota\",\"red\")\n",
    "\n",
    "print(Car.catergory)\n",
    "\n"
   ]
  },
  {
   "cell_type": "code",
   "execution_count": 105,
   "metadata": {},
   "outputs": [
    {
     "name": "stdout",
     "output_type": "stream",
     "text": [
      "Deposit successful 1500\n",
      "withdraw successfull 2000\n",
      "Insufficient balance amount\n"
     ]
    }
   ],
   "source": [
    "class bankAccount:\n",
    "    accountholder = \"\"\n",
    "    balance = 0.0\n",
    "    def __init__(self,accountholder,balance):\n",
    "       self.accountholder = accountholder\n",
    "       self.balance = balance\n",
    "\n",
    "    def deposit(self, amount):\n",
    "      \n",
    "     if amount > 0:\n",
    "      self.balance += amount\n",
    "      print(\"Deposit successful\",self.balance)\n",
    "      return self.balance\n",
    "     else:\n",
    "      print(\"Invalid deposit amount\")\n",
    "\n",
    "    def withdraw(self,amount):\n",
    "      if amount > 0:\n",
    "        self.balance =amount\n",
    "        print(\"withdraw successfull\",self.balance)\n",
    "        return self.balance\n",
    "      else:\n",
    "        print(\"Invalid withdrawal amount\")\n",
    "\n",
    "    def balance1(self,amount,dep):\n",
    "     amo = dep - amount\n",
    "     \n",
    "     if amo > 0:\n",
    "       self.balance -= amount\n",
    "       print(\"balance: \",amo)\n",
    "     else:\n",
    "        print(\"Insufficient balance amount\")\n",
    "\n",
    "name = input(\"Enter the name\")\n",
    "amount = input(\"Enter the amount\")\n",
    "check = int(amount)\n",
    "account = bankAccount(name,int(amount))\n",
    "\n",
    "if check > 0:\n",
    "    dep =account.deposit(1000)\n",
    "    ar = account.withdraw(2000)\n",
    "    account.balance1(ar,dep)\n",
    "else:\n",
    "  print(\"Invalid amount\")\n"
   ]
  },
  {
   "cell_type": "code",
   "execution_count": null,
   "metadata": {},
   "outputs": [
    {
     "name": "stdout",
     "output_type": "stream",
     "text": [
      "Buddy\n"
     ]
    }
   ],
   "source": [
    "class Animal:\n",
    "    def __init__(self, name):\n",
    "        self.name = name\n",
    "    def speak(self):\n",
    "        pass    #there is nothing in the body   \n",
    "\n",
    "class Dog(Animal):\n",
    "    def speak(self):\n",
    "        print(self.name,\"says woof\")\n",
    "\n",
    "class Cat(Animal):\n",
    "    def speak(self):\n",
    "        print(self.name,\"says meow\")\n",
    "\n",
    "dog = Dog(\"Buddy\")\n",
    "print(dog.name) "
   ]
  },
  {
   "cell_type": "code",
   "execution_count": 108,
   "metadata": {},
   "outputs": [
    {
     "name": "stdout",
     "output_type": "stream",
     "text": [
      "buddy   black\n"
     ]
    }
   ],
   "source": [
    "class Animal:\n",
    "    def __init__(self, name):\n",
    "        self.name = name\n",
    "    def speak(self):\n",
    "        pass    #there is nothing in the body   \n",
    "\n",
    "\n",
    "class Dog(Animal):\n",
    "    def __init__(self, name,color):\n",
    "        self.color = color\n",
    "        super().__init__(name)\n",
    "\n",
    "dog = Dog(\"buddy\",\"black\")\n",
    "\n",
    "print(dog.name,\" \",dog.color)"
   ]
  },
  {
   "cell_type": "code",
   "execution_count": null,
   "metadata": {},
   "outputs": [
    {
     "name": "stdout",
     "output_type": "stream",
     "text": [
      "Title: vendor of sweets\n",
      "Author: RK Narayan\n",
      "Publication Year: 1987\n",
      "Genre: Cultural\n",
      "ISBN: 188481848\n",
      "\n",
      "\n",
      "Title: vendor of sweets\n",
      "Author: RK Narayan\n",
      "Publication Year: 1987\n",
      "Issue Number: 15484844\n",
      "Date: 2024-12-05\n"
     ]
    }
   ],
   "source": [
    "class Library:\n",
    "    def __init__(self, title,author,publication_year):\n",
    "        self.title = title\n",
    "        self.author = author\n",
    "        self.publication_year = publication_year\n",
    "    def display_info(self):\n",
    "        print(\"Title:\",self.title)\n",
    "        print(\"Author:\",self.author)\n",
    "        print(\"Publication Year:\",self.publication_year)\n",
    "class Book(Library):\n",
    "    def __init__(self, title, author, publication_year, genre,ISBM):\n",
    "        self.genre = genre\n",
    "        self.ISBM = ISBM\n",
    "        super().__init__(title, author, publication_year)\n",
    "    def display_additional_info(self):\n",
    "        print(\"Title:\",self.title)\n",
    "        print(\"Author:\",self.author)\n",
    "        print(\"Publication Year:\",self.publication_year)\n",
    "        print(\"Genre:\",self.genre)\n",
    "        print(\"ISBN:\",self.ISBM)\n",
    "\n",
    "class Magazine(Library):\n",
    "    def __init__(self, title, author, publication_year, date,issue_number):\n",
    "        self.date = date\n",
    "        self.issue_number = issue_number\n",
    "        super().__init__(title, author, publication_year)\n",
    "    def display_additional_info(self):\n",
    "        print(\"Title:\",self.title)\n",
    "        print(\"Author:\",self.author)\n",
    "        print(\"Publication Year:\",self.publication_year)\n",
    "        print(\"Issue Number:\",self.issue_number)\n",
    "        print(\"Date:\",self.date)\n",
    "\n",
    "book = Book(\"vendor of sweets\",\"RK Narayan\",\"1987\",\"Cultural\",188481848)\n",
    "magazine = Magazine(\"vendor of sweets\",\"RK Narayan\",\"1987\",\"2024-12-05\",15484844)\n",
    "\n",
    "book.display_additional_info()\n",
    "\n",
    "print(\"\\n\")\n",
    "magazine.display_additional_info()"
   ]
  },
  {
   "cell_type": "code",
   "execution_count": 2,
   "metadata": {},
   "outputs": [
    {
     "name": "stdout",
     "output_type": "stream",
     "text": [
      "test\n",
      "test 1\n"
     ]
    }
   ],
   "source": [
    "class MyClass:\n",
    "    def __init__(self,protected_var,private_var):\n",
    "        self.protected = protected_var\n",
    "        self.private = private_var\n",
    "my_obj = MyClass(\"test\",\"test 1\")\n",
    "\n",
    "print(my_obj.protected)\n",
    "print(my_obj.private)"
   ]
  },
  {
   "cell_type": "code",
   "execution_count": null,
   "metadata": {},
   "outputs": [
    {
     "name": "stdout",
     "output_type": "stream",
     "text": [
      "Protected method called\n"
     ]
    },
    {
     "ename": "AttributeError",
     "evalue": "'MyClass' object has no attribute '__private_method'",
     "output_type": "error",
     "traceback": [
      "\u001b[1;31m---------------------------------------------------------------------------\u001b[0m",
      "\u001b[1;31mAttributeError\u001b[0m                            Traceback (most recent call last)",
      "Cell \u001b[1;32mIn[3], line 12\u001b[0m\n\u001b[0;32m     10\u001b[0m my_obj \u001b[38;5;241m=\u001b[39m MyClass(\u001b[38;5;124m\"\u001b[39m\u001b[38;5;124mtest\u001b[39m\u001b[38;5;124m\"\u001b[39m,\u001b[38;5;124m\"\u001b[39m\u001b[38;5;124mtest 1\u001b[39m\u001b[38;5;124m\"\u001b[39m)\n\u001b[0;32m     11\u001b[0m my_obj\u001b[38;5;241m.\u001b[39m_protected_method()\n\u001b[1;32m---> 12\u001b[0m \u001b[43mmy_obj\u001b[49m\u001b[38;5;241;43m.\u001b[39;49m\u001b[43m__private_method\u001b[49m() \u001b[38;5;66;03m#cannot call private method because private\u001b[39;00m\n",
      "\u001b[1;31mAttributeError\u001b[0m: 'MyClass' object has no attribute '__private_method'"
     ]
    }
   ],
   "source": [
    "class MyClass:\n",
    "    def __init__(self, protected_var, private_var):\n",
    "        self._protected = protected_var\n",
    "        self._private = private_var\n",
    "    def _protected_method(self):\n",
    "        print(\"Protected method called\")\n",
    "    def __private_method(self):\n",
    "        print(\"Private method called\")\n",
    "\n",
    "my_obj = MyClass(\"test\",\"test 1\")\n",
    "my_obj._protected_method()\n",
    "# my_obj.__private_method() #cannot call private method because private"
   ]
  },
  {
   "cell_type": "code",
   "execution_count": null,
   "metadata": {},
   "outputs": [
    {
     "ename": "AttributeError",
     "evalue": "'MyClass' object has no attribute '__data'",
     "output_type": "error",
     "traceback": [
      "\u001b[1;31m---------------------------------------------------------------------------\u001b[0m",
      "\u001b[1;31mAttributeError\u001b[0m                            Traceback (most recent call last)",
      "Cell \u001b[1;32mIn[4], line 11\u001b[0m\n\u001b[0;32m      8\u001b[0m         \u001b[38;5;28mprint\u001b[39m(\u001b[38;5;124m'\u001b[39m\u001b[38;5;124mvalue of \u001b[39m\u001b[38;5;124m'\u001b[39m,value)\n\u001b[0;32m     10\u001b[0m classGetAndSet \u001b[38;5;241m=\u001b[39m MyClass()  \n\u001b[1;32m---> 11\u001b[0m \u001b[43mclassGetAndSet\u001b[49m\u001b[38;5;241;43m.\u001b[39;49m\u001b[43m__data\u001b[49m\n\u001b[0;32m     13\u001b[0m classGetAndSet\u001b[38;5;241m.\u001b[39mget_data()\n\u001b[0;32m     15\u001b[0m classGetAndSet\u001b[38;5;241m.\u001b[39mset_data(\u001b[38;5;241m10\u001b[39m)\n",
      "\u001b[1;31mAttributeError\u001b[0m: 'MyClass' object has no attribute '__data'"
     ]
    }
   ],
   "source": [
    "class MyClass:\n",
    "    def __init__(self):\n",
    "        self.__data = \"capsulated data\"\n",
    "    def get_data(self):\n",
    "        print('value of ',self.__data)\n",
    "    def set_data(self, value):\n",
    "        self.__data = value\n",
    "        print('value of ',value)\n",
    "\n",
    "classGetAndSet = MyClass()  \n",
    "\n",
    "\n",
    "classGetAndSet.get_data()\n",
    "\n",
    "classGetAndSet.set_data(10)\n",
    "\n",
    "classGetAndSet.get_data()\n"
   ]
  },
  {
   "cell_type": "code",
   "execution_count": null,
   "metadata": {},
   "outputs": [],
   "source": [
    "class Quadratic_equation:\n",
    "    def __init__(self, a, b, c):\n",
    "        self.__a = a\n",
    "        self.__b = b\n",
    "        self.__c = c\n",
    "    def getData(self):\n",
    "        print('value of ',self.__a)\n",
    "    def setData(self,a,b,c):\n",
    "        self.__a = a\n",
    "        self.__b = b\n",
    "        self.__c = c\n",
    "         \n",
    "\n",
    "\n",
    "\n",
    "answer =Quadratic_equation()\n",
    "\n",
    "answer.setData()\n",
    "    "
   ]
  },
  {
   "cell_type": "code",
   "execution_count": 14,
   "metadata": {},
   "outputs": [
    {
     "name": "stdout",
     "output_type": "stream",
     "text": [
      "car's year 2003\n",
      "car's old 22\n",
      "car's brand toyoto\n",
      "car's color red\n"
     ]
    }
   ],
   "source": [
    "from datetime import datetime\n",
    "# Add a year attribute to the Car class.\n",
    "# Implement a method age_of_car that calculates and returns the car's age based on the current year.\n",
    "# Test your class by creating a car object and displaying its age.\n",
    "class Car:\n",
    "\n",
    "    def __init__(self,brand,color,year):\n",
    "        self.__color =color\n",
    "        self.__brand = brand\n",
    "        self.__year = year\n",
    "    \n",
    "    def age_of_car(self):\n",
    "       current_year = datetime.now().year\n",
    "       return current_year - self.__year\n",
    "    \n",
    "    def display(self):\n",
    "        print(f\"car's year {self.__year}\")\n",
    "        print(f\"car's old {self.age_of_car()}\")\n",
    "        print(f\"car's brand {self.__brand}\")\n",
    "        print(f\"car's color {self.__color}\")\n",
    "\n",
    "car =  Car(\"toyoto\",\"red\",2003)\n",
    "car.display()"
   ]
  },
  {
   "cell_type": "code",
   "execution_count": 11,
   "metadata": {},
   "outputs": [
    {
     "name": "stdout",
     "output_type": "stream",
     "text": [
      "acount holder joe\n",
      "account type: savings\n",
      "balance : 20000\n",
      "\n",
      "\n",
      "acount holder grace\n",
      "account type: checking\n",
      "balance : 40000\n",
      "\n",
      "\n",
      "transfered amount 30000\n",
      "\n",
      "\n",
      "withdraw amount 500\n",
      "New balance 30000\n"
     ]
    }
   ],
   "source": [
    "# Exercise 2: Bank Account Enhancements\n",
    "# Add an attribute account_type to distinguish between \"Savings\" and \"Checking\" accounts.\n",
    "# Implement a method transfer that transfers money between two accounts.\n",
    "# Ensure proper validation for sufficient funds and correct input.\n",
    "# Test the transfer method by creating two account objects and transferring money between them\n",
    "\n",
    "class Bank:\n",
    "    def __init__(self,account_holder,account_type,balance):\n",
    "        self.account_holder = account_holder\n",
    "        self.account_type = account_type\n",
    "        self.balance = balance\n",
    "    def transfer(self,amount):\n",
    "        if amount>0:\n",
    "            self.balance +=amount\n",
    "            print(f\"transfered amount {self.balance}\")\n",
    "        else:\n",
    "            print(\"insufficient fund\")\n",
    "    def withdraw(self,amount,target_account):\n",
    "        if 0 < amount<= self.balance:\n",
    "            self.balance -= amount\n",
    "            target_account.balance += amount\n",
    "            print(f\"withdraw amount {amount}\")\n",
    "            print(f\"New balance {target_account.balance}\")\n",
    "        else:\n",
    "            print(\"insufficient fund\")\n",
    "    def display(self):\n",
    "       print(f\"acount holder {self.account_holder}\")\n",
    "       print(f\"account type: {self.account_type}\")\n",
    "       print(f\"balance : {self.balance}\")\n",
    "\n",
    "\n",
    "savings = Bank(\"joe\",\"savings\",20000)\n",
    "checking = Bank(\"grace\",\"checking\",40000)\n",
    "\n",
    "savings.display()\n",
    "print(\"\\n\")\n",
    "checking.display()\n",
    "print(\"\\n\")\n",
    "savings.transfer(10000)\n",
    "print(\"\\n\")\n",
    "savings.withdraw(500,savings)\n"
   ]
  },
  {
   "cell_type": "code",
   "execution_count": null,
   "metadata": {},
   "outputs": [],
   "source": []
  },
  {
   "cell_type": "code",
   "execution_count": null,
   "metadata": {},
   "outputs": [],
   "source": []
  }
 ],
 "metadata": {
  "kernelspec": {
   "display_name": "Python 3",
   "language": "python",
   "name": "python3"
  },
  "language_info": {
   "codemirror_mode": {
    "name": "ipython",
    "version": 3
   },
   "file_extension": ".py",
   "mimetype": "text/x-python",
   "name": "python",
   "nbconvert_exporter": "python",
   "pygments_lexer": "ipython3",
   "version": "3.13.1"
  }
 },
 "nbformat": 4,
 "nbformat_minor": 2
}
